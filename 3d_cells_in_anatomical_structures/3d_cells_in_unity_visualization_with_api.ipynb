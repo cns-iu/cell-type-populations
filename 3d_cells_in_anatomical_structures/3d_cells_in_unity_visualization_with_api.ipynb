{
 "cells": [
  {
   "cell_type": "markdown",
   "metadata": {},
   "source": [
    "# Code to demo 3D Cell Generation API"
   ]
  },
  {
   "cell_type": "markdown",
   "metadata": {},
   "source": [
    "This code uses the [hra-3d-cell-generation-api](https://github.com/cns-iu/hra-3d-cell-generation-api) to get cell summaries for anatomical structures to be displayed in [ra-cell-type-populations-visualization](https://github.com/cns-iu/hra-cell-type-populations-visualization), which is in turn displayed on the [companion website](https://cns-iu.github.io/hra-cell-type-populations-supporting-information/). The code is also used for one of the figures."
   ]
  },
  {
   "cell_type": "markdown",
   "metadata": {},
   "source": [
    "## Import statements"
   ]
  },
  {
   "cell_type": "code",
   "execution_count": 69,
   "metadata": {},
   "outputs": [],
   "source": [
    "import requests\n",
    "import json\n",
    "import csv\n",
    "import pandas as pd\n",
    "from io import StringIO"
   ]
  },
  {
   "cell_type": "markdown",
   "metadata": {},
   "source": [
    "## Generate request params"
   ]
  },
  {
   "cell_type": "code",
   "execution_count": 70,
   "metadata": {},
   "outputs": [],
   "source": [
    "# Choose organ and AS to get 3D cells for\n",
    "# organ = \"https://ccf-ontology.hubmapconsortium.org/objects/v1.2/VH_M_Kidney_L.glb\"\n",
    "organ = \"https://cdn.humanatlas.io/digital-objects/ref-organ/heart-female/v1.3/assets/3d-vh-f-heart.glb\"\n",
    "as_name = \"VH_F_left_ventricle\"\n",
    "max_cells = 6000\n",
    "\n",
    "# Set request params\n",
    "request_params = {\n",
    "    \"file\": organ,\n",
    "    \"file_subpath\": as_name,\n",
    "    \"num_nodes\": max_cells,\n",
    "    \"node_distribution\": {}\n",
    "}"
   ]
  },
  {
   "cell_type": "markdown",
   "metadata": {},
   "source": [
    "### Get AS-CT counts from HRA LOD"
   ]
  },
  {
   "cell_type": "code",
   "execution_count": 71,
   "metadata": {},
   "outputs": [],
   "source": [
    "# Get cell type distribution from HRA LOD\n",
    "url = 'https://grlc.io/api-git/hubmapconsortium/ccf-grlc/subdir/hra-pop//cell_types_in_anatomical_structurescts_per_as?endpoint=https%3A%2F%2Flod.humanatlas.io%2Fsparql'\n",
    "header = {\"accept\": \"text/csv\"}\n",
    "\n",
    "# make the GET request and capture text\n",
    "response = requests.get(url, headers=header)\n",
    "csv_response = response.text\n",
    "\n",
    "# convert to data frame\n",
    "df = pd.read_csv(StringIO(csv_response))"
   ]
  },
  {
   "cell_type": "markdown",
   "metadata": {},
   "source": [
    "### Create params for hra-3d-cell-generation-api as JSON"
   ]
  },
  {
   "cell_type": "code",
   "execution_count": 72,
   "metadata": {},
   "outputs": [],
   "source": [
    "# Subset to only get cells for the desired anatomical structure\n",
    "subset_df = df[((df['as_label'] == 'outer cortex of kidney')) &\n",
    "               (df['organ'] == 'Heart') &\n",
    "               (df['sex'] == 'Female') &\n",
    "               (df['tool'] == 'azimuth')\n",
    "               ]\n",
    "\n",
    "# Extract cell labels and percentages for key-value pairs in JSON params\n",
    "cell_information = subset_df.loc[:, ['cell_label', 'cell_percentage']]\n",
    "\n",
    "# Create a dictionary where cell_label is the key and cell_percentage is the value\n",
    "cell_label = cell_information['cell_label'].tolist()\n",
    "cell_percentage = cell_information['cell_percentage'].tolist()\n",
    "pairs = dict(zip(cell_label, cell_percentage))"
   ]
  },
  {
   "cell_type": "markdown",
   "metadata": {},
   "source": [
    "### Add to JSON params"
   ]
  },
  {
   "cell_type": "code",
   "execution_count": 73,
   "metadata": {},
   "outputs": [],
   "source": [
    "request_params['node_distribution'] = pairs"
   ]
  },
  {
   "cell_type": "markdown",
   "metadata": {},
   "source": [
    "## Fetch 3D cell positions from API and export them to CSV"
   ]
  },
  {
   "cell_type": "code",
   "execution_count": 77,
   "metadata": {},
   "outputs": [
    {
     "name": "stdout",
     "output_type": "stream",
     "text": [
      "request.text:\n",
      " x,y,z,Cell Type\n"
     ]
    }
   ],
   "source": [
    "# set the URL\n",
    "url = 'https://apps.humanatlas.io/api/v1/mesh-3d-cell-population'\n",
    "\n",
    "# make the POST request \n",
    "request = requests.post(url, json=request_params)\n",
    "response = request.text.split('\\n')\n",
    "\n",
    "print(f'request.text:\\n {request.text}')\n",
    "\n",
    "# export to CSV\n",
    "with open('output/3d_cell_distribution.csv', 'w', newline='') as csvfile:\n",
    "    writer = csv.writer(csvfile, delimiter=',')\n",
    "    for line in response:\n",
    "        writer.writerow(line.split(','))"
   ]
  }
 ],
 "metadata": {
  "kernelspec": {
   "display_name": "Python 3",
   "language": "python",
   "name": "python3"
  },
  "language_info": {
   "codemirror_mode": {
    "name": "ipython",
    "version": 3
   },
   "file_extension": ".py",
   "mimetype": "text/x-python",
   "name": "python",
   "nbconvert_exporter": "python",
   "pygments_lexer": "ipython3",
   "version": "3.12.4"
  }
 },
 "nbformat": 4,
 "nbformat_minor": 2
}

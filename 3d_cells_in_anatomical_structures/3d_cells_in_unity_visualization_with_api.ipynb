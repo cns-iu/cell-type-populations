{
 "cells": [
  {
   "cell_type": "markdown",
   "metadata": {},
   "source": [
    "# Code to get 3D cells for Unity demo"
   ]
  },
  {
   "cell_type": "markdown",
   "metadata": {},
   "source": [
    "This code uses the [hra-3d-cell-generation-api](https://github.com/cns-iu/hra-3d-cell-generation-api) to get cell summaries for anatomical structures to be displayed in [ra-cell-type-populations-visualization](https://github.com/cns-iu/hra-cell-type-populations-visualization), which is in turn displayed on the [companion website](https://cns-iu.github.io/hra-cell-type-populations-supporting-information/)."
   ]
  },
  {
   "cell_type": "markdown",
   "metadata": {},
   "source": [
    "## Import statements"
   ]
  },
  {
   "cell_type": "code",
   "execution_count": 92,
   "metadata": {},
   "outputs": [],
   "source": [
    "import requests\n",
    "import json\n",
    "import csv\n",
    "import pandas as pd\n",
    "from io import StringIO"
   ]
  },
  {
   "cell_type": "markdown",
   "metadata": {},
   "source": [
    "## Generate request params"
   ]
  },
  {
   "cell_type": "code",
   "execution_count": 93,
   "metadata": {},
   "outputs": [],
   "source": [
    "# Set boilerplat request params\n",
    "request_params = {\n",
    "    \"file\": \"https://ccf-ontology.hubmapconsortium.org/objects/v1.2/VH_M_Kidney_L.glb\",\n",
    "    \"file_subpath\": \"VH_M_outer_cortex_of_kidney_L\",\n",
    "    \"num_nodes\": 2000,\n",
    "    \"node_distribution\": {}\n",
    "}"
   ]
  },
  {
   "cell_type": "markdown",
   "metadata": {},
   "source": [
    "### Get AS-CT counts from HRA LOD"
   ]
  },
  {
   "cell_type": "code",
   "execution_count": 94,
   "metadata": {},
   "outputs": [],
   "source": [
    "# Get cell type distribution from HRA LOD\n",
    "url = 'https://grlc.io/api-git/hubmapconsortium/ccf-grlc/subdir/hra-pop//cell_types_in_anatomical_structurescts_per_as?endpoint=https%3A%2F%2Flod.humanatlas.io%2Fsparql'\n",
    "header = {\"accept\": \"text/csv\"}\n",
    "\n",
    "# make the GET request and capture text\n",
    "response = requests.get(url, headers=header)\n",
    "csv_response = response.text\n",
    "\n",
    "# convert to data frame\n",
    "df = pd.read_csv(StringIO(csv_response))"
   ]
  },
  {
   "cell_type": "markdown",
   "metadata": {},
   "source": [
    "### Create params for hra-3d-cell-generation-api as JSON"
   ]
  },
  {
   "cell_type": "code",
   "execution_count": 95,
   "metadata": {},
   "outputs": [],
   "source": [
    "# Subset to only get cells for the desired anatomical structure\n",
    "subset_df = df[((df['as_label'] == 'outer cortex of kidney')) &\n",
    "               (df['organ'] == 'Left Kidney') &\n",
    "               (df['sex'] == 'Male') &\n",
    "               (df['tool'] == 'azimuth')\n",
    "               ]\n",
    "\n",
    "# Extract cell labels and percentages for key-value pairs in JSON params\n",
    "cell_information = subset_df.loc[:, ['cell_label', 'cell_percentage']]\n",
    "\n",
    "# Create a dictionary where cell_label is the key and cell_percentage is the value\n",
    "cell_label = cell_information['cell_label'].tolist()\n",
    "cell_percentage = cell_information['cell_percentage'].tolist()\n",
    "pairs = dict(zip(cell_label, cell_percentage))\n",
    "\n",
    "# remove white space in keys to avoid bug. First, let's initialize an empty dictionary to store cleaned key-value pairs\n",
    "cleaned_cell_label_and_percentage_pairs = {}"
   ]
  },
  {
   "cell_type": "markdown",
   "metadata": {},
   "source": [
    "### Clean keys"
   ]
  },
  {
   "cell_type": "code",
   "execution_count": 96,
   "metadata": {},
   "outputs": [
    {
     "ename": "RuntimeError",
     "evalue": "dictionary changed size during iteration",
     "output_type": "error",
     "traceback": [
      "\u001b[1;31m---------------------------------------------------------------------------\u001b[0m",
      "\u001b[1;31mRuntimeError\u001b[0m                              Traceback (most recent call last)",
      "Cell \u001b[1;32mIn[96], line 2\u001b[0m\n\u001b[0;32m      1\u001b[0m \u001b[38;5;66;03m# iterate over the original dictionary\u001b[39;00m\n\u001b[1;32m----> 2\u001b[0m \u001b[38;5;28;43;01mfor\u001b[39;49;00m\u001b[43m \u001b[49m\u001b[43mkey\u001b[49m\u001b[43m,\u001b[49m\u001b[43m \u001b[49m\u001b[43mvalue\u001b[49m\u001b[43m \u001b[49m\u001b[38;5;129;43;01min\u001b[39;49;00m\u001b[43m \u001b[49m\u001b[43mpairs\u001b[49m\u001b[38;5;241;43m.\u001b[39;49m\u001b[43mitems\u001b[49m\u001b[43m(\u001b[49m\u001b[43m)\u001b[49m\u001b[43m:\u001b[49m\n\u001b[0;32m      3\u001b[0m \n\u001b[0;32m      4\u001b[0m \u001b[43m    \u001b[49m\u001b[38;5;66;43;03m# Remove whitespace from the key and store it in the cleaned dictionary\u001b[39;49;00m\n\u001b[0;32m      5\u001b[0m \u001b[43m    \u001b[49m\u001b[43mcleaned_key\u001b[49m\u001b[43m \u001b[49m\u001b[38;5;241;43m=\u001b[39;49m\u001b[43m \u001b[49m\u001b[43mkey\u001b[49m\u001b[38;5;241;43m.\u001b[39;49m\u001b[43mreplace\u001b[49m\u001b[43m(\u001b[49m\u001b[38;5;124;43m\"\u001b[39;49m\u001b[38;5;124;43m \u001b[39;49m\u001b[38;5;124;43m\"\u001b[39;49m\u001b[43m,\u001b[49m\u001b[43m \u001b[49m\u001b[38;5;124;43m\"\u001b[39;49m\u001b[38;5;124;43m\"\u001b[39;49m\u001b[43m)\u001b[49m\n\u001b[0;32m      7\u001b[0m \u001b[43m    \u001b[49m\u001b[38;5;66;43;03m# thwn assign to cleaned dict\u001b[39;49;00m\n",
      "\u001b[1;31mRuntimeError\u001b[0m: dictionary changed size during iteration"
     ]
    }
   ],
   "source": [
    "# iterate over the original dictionary\n",
    "for key, value in pairs.items():\n",
    "\n",
    "    # Remove whitespace from the key and store it in the cleaned dictionary\n",
    "    cleaned_key = key.replace(\" \", \"\")\n",
    "\n",
    "    # thwn assign to cleaned dict\n",
    "    cleaned_cell_label_and_percentage_pairs[cleaned_key] = value"
   ]
  },
  {
   "cell_type": "markdown",
   "metadata": {},
   "source": [
    "### Add to JSON params"
   ]
  },
  {
   "cell_type": "code",
   "execution_count": null,
   "metadata": {},
   "outputs": [],
   "source": [
    "request_params['node_distribution'] = cleaned_cell_label_and_percentage_pairs"
   ]
  },
  {
   "cell_type": "markdown",
   "metadata": {},
   "source": [
    "## Fetch 3D cell positions from API and export them to CSV"
   ]
  },
  {
   "cell_type": "code",
   "execution_count": null,
   "metadata": {},
   "outputs": [],
   "source": [
    "# set the URL\n",
    "url = 'https://apfvtab7fp.us-east-2.awsapprunner.com/mesh-3d-cell-population'\n",
    "\n",
    "# make the POST request \n",
    "request = requests.post(url, json=request_params)\n",
    "response = request.text.split('\\n')\n",
    "\n",
    "# export to CSV\n",
    "with open('output/3d_cell_distribution.csv', 'w', newline='') as csvfile:\n",
    "    writer = csv.writer(csvfile, delimiter=',')\n",
    "    for line in response:\n",
    "        writer.writerow(line.split(','))"
   ]
  }
 ],
 "metadata": {
  "kernelspec": {
   "display_name": "Python 3",
   "language": "python",
   "name": "python3"
  },
  "language_info": {
   "codemirror_mode": {
    "name": "ipython",
    "version": 3
   },
   "file_extension": ".py",
   "mimetype": "text/x-python",
   "name": "python",
   "nbconvert_exporter": "python",
   "pygments_lexer": "ipython3",
   "version": "3.11.8"
  }
 },
 "nbformat": 4,
 "nbformat_minor": 2
}

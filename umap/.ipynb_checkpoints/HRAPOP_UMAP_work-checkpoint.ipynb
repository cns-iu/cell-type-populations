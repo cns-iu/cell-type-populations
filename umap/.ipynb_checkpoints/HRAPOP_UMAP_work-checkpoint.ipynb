{
 "cells": [
  {
   "cell_type": "markdown",
   "id": "43b9c409-e31e-4eec-a469-044c1a61a4da",
   "metadata": {},
   "source": [
    "## Setting up environment"
   ]
  },
  {
   "cell_type": "code",
   "execution_count": 86,
   "id": "739a0b5d-1406-4329-8a8a-4d7bf5fc8bba",
   "metadata": {},
   "outputs": [],
   "source": [
    "import numpy as np\n",
    "from sklearn.datasets import load_digits\n",
    "from sklearn.model_selection import train_test_split\n",
    "from sklearn.preprocessing import StandardScaler\n",
    "import matplotlib.pyplot as plt\n",
    "import seaborn as sns\n",
    "import pandas as pd\n",
    "import umap\n",
    "%matplotlib inline"
   ]
  },
  {
   "cell_type": "code",
   "execution_count": 3,
   "id": "3796f53e-6fc8-41cf-95d6-51be736c028d",
   "metadata": {},
   "outputs": [],
   "source": [
    "sns.set(style='white', context='notebook', rc={'figure.figsize':(14,10)})"
   ]
  },
  {
   "cell_type": "markdown",
   "id": "f805c605-02aa-4afc-982e-33892f109e6f",
   "metadata": {},
   "source": [
    "## Loading data"
   ]
  },
  {
   "cell_type": "code",
   "execution_count": 51,
   "id": "560acdeb-278c-4857-b2c6-b178501aceb5",
   "metadata": {
    "scrolled": true
   },
   "outputs": [
    {
     "data": {
      "text/html": [
       "<div>\n",
       "<style scoped>\n",
       "    .dataframe tbody tr th:only-of-type {\n",
       "        vertical-align: middle;\n",
       "    }\n",
       "\n",
       "    .dataframe tbody tr th {\n",
       "        vertical-align: top;\n",
       "    }\n",
       "\n",
       "    .dataframe thead th {\n",
       "        text-align: right;\n",
       "    }\n",
       "</style>\n",
       "<table border=\"1\" class=\"dataframe\">\n",
       "  <thead>\n",
       "    <tr style=\"text-align: right;\">\n",
       "      <th></th>\n",
       "      <th>consortium_name</th>\n",
       "      <th>dataset</th>\n",
       "      <th>tool</th>\n",
       "      <th>modality</th>\n",
       "      <th>reported_organ</th>\n",
       "      <th>organ</th>\n",
       "      <th>organId</th>\n",
       "      <th>rui_location_volume</th>\n",
       "      <th>cell_id</th>\n",
       "      <th>cell_label</th>\n",
       "      <th>cell_count</th>\n",
       "      <th>percentage</th>\n",
       "    </tr>\n",
       "  </thead>\n",
       "  <tbody>\n",
       "    <tr>\n",
       "      <th>0</th>\n",
       "      <td>NHLBI/LungMap</td>\n",
       "      <td>https://api.cellxgene.cziscience.com/dp/v1/col...</td>\n",
       "      <td>azimuth</td>\n",
       "      <td>sc_bulk</td>\n",
       "      <td>http://purl.obolibrary.org/obo/UBERON_0002048</td>\n",
       "      <td>respiratory system</td>\n",
       "      <td>UBERON:0001004</td>\n",
       "      <td>75.0</td>\n",
       "      <td>CL:4028006</td>\n",
       "      <td>alveolar type 2 fibroblast cell</td>\n",
       "      <td>832</td>\n",
       "      <td>0.167404</td>\n",
       "    </tr>\n",
       "    <tr>\n",
       "      <th>1</th>\n",
       "      <td>NHLBI/LungMap</td>\n",
       "      <td>https://api.cellxgene.cziscience.com/dp/v1/col...</td>\n",
       "      <td>azimuth</td>\n",
       "      <td>sc_bulk</td>\n",
       "      <td>http://purl.obolibrary.org/obo/UBERON_0002048</td>\n",
       "      <td>respiratory system</td>\n",
       "      <td>UBERON:0001004</td>\n",
       "      <td>75.0</td>\n",
       "      <td>CL:4028004</td>\n",
       "      <td>alveolar type 1 fibroblast cell</td>\n",
       "      <td>742</td>\n",
       "      <td>0.149296</td>\n",
       "    </tr>\n",
       "    <tr>\n",
       "      <th>2</th>\n",
       "      <td>NHLBI/LungMap</td>\n",
       "      <td>https://api.cellxgene.cziscience.com/dp/v1/col...</td>\n",
       "      <td>azimuth</td>\n",
       "      <td>sc_bulk</td>\n",
       "      <td>http://purl.obolibrary.org/obo/UBERON_0002048</td>\n",
       "      <td>respiratory system</td>\n",
       "      <td>UBERON:0001004</td>\n",
       "      <td>75.0</td>\n",
       "      <td>CL:0000583</td>\n",
       "      <td>alveolar macrophage</td>\n",
       "      <td>693</td>\n",
       "      <td>0.139437</td>\n",
       "    </tr>\n",
       "    <tr>\n",
       "      <th>3</th>\n",
       "      <td>NHLBI/LungMap</td>\n",
       "      <td>https://api.cellxgene.cziscience.com/dp/v1/col...</td>\n",
       "      <td>azimuth</td>\n",
       "      <td>sc_bulk</td>\n",
       "      <td>http://purl.obolibrary.org/obo/UBERON_0002048</td>\n",
       "      <td>respiratory system</td>\n",
       "      <td>UBERON:0001004</td>\n",
       "      <td>75.0</td>\n",
       "      <td>CL:0002144</td>\n",
       "      <td>capillary endothelial cell</td>\n",
       "      <td>684</td>\n",
       "      <td>0.137626</td>\n",
       "    </tr>\n",
       "    <tr>\n",
       "      <th>4</th>\n",
       "      <td>NHLBI/LungMap</td>\n",
       "      <td>https://api.cellxgene.cziscience.com/dp/v1/col...</td>\n",
       "      <td>azimuth</td>\n",
       "      <td>sc_bulk</td>\n",
       "      <td>http://purl.obolibrary.org/obo/UBERON_0002048</td>\n",
       "      <td>respiratory system</td>\n",
       "      <td>UBERON:0001004</td>\n",
       "      <td>75.0</td>\n",
       "      <td>CL:0002553</td>\n",
       "      <td>fibroblast of lung:alveolar</td>\n",
       "      <td>637</td>\n",
       "      <td>0.128169</td>\n",
       "    </tr>\n",
       "  </tbody>\n",
       "</table>\n",
       "</div>"
      ],
      "text/plain": [
       "  consortium_name                                            dataset     tool  \\\n",
       "0   NHLBI/LungMap  https://api.cellxgene.cziscience.com/dp/v1/col...  azimuth   \n",
       "1   NHLBI/LungMap  https://api.cellxgene.cziscience.com/dp/v1/col...  azimuth   \n",
       "2   NHLBI/LungMap  https://api.cellxgene.cziscience.com/dp/v1/col...  azimuth   \n",
       "3   NHLBI/LungMap  https://api.cellxgene.cziscience.com/dp/v1/col...  azimuth   \n",
       "4   NHLBI/LungMap  https://api.cellxgene.cziscience.com/dp/v1/col...  azimuth   \n",
       "\n",
       "  modality                                 reported_organ               organ  \\\n",
       "0  sc_bulk  http://purl.obolibrary.org/obo/UBERON_0002048  respiratory system   \n",
       "1  sc_bulk  http://purl.obolibrary.org/obo/UBERON_0002048  respiratory system   \n",
       "2  sc_bulk  http://purl.obolibrary.org/obo/UBERON_0002048  respiratory system   \n",
       "3  sc_bulk  http://purl.obolibrary.org/obo/UBERON_0002048  respiratory system   \n",
       "4  sc_bulk  http://purl.obolibrary.org/obo/UBERON_0002048  respiratory system   \n",
       "\n",
       "          organId  rui_location_volume     cell_id  \\\n",
       "0  UBERON:0001004                 75.0  CL:4028006   \n",
       "1  UBERON:0001004                 75.0  CL:4028004   \n",
       "2  UBERON:0001004                 75.0  CL:0000583   \n",
       "3  UBERON:0001004                 75.0  CL:0002144   \n",
       "4  UBERON:0001004                 75.0  CL:0002553   \n",
       "\n",
       "                        cell_label  cell_count  percentage  \n",
       "0  alveolar type 2 fibroblast cell         832    0.167404  \n",
       "1  alveolar type 1 fibroblast cell         742    0.149296  \n",
       "2              alveolar macrophage         693    0.139437  \n",
       "3       capillary endothelial cell         684    0.137626  \n",
       "4      fibroblast of lung:alveolar         637    0.128169  "
      ]
     },
     "execution_count": 51,
     "metadata": {},
     "output_type": "execute_result"
    }
   ],
   "source": [
    "data = pd.read_csv(\"https://raw.githubusercontent.com/x-atlas-consortia/hra-pop/main/output-data/v0.5/reports/atlas/validation-v5.csv\")\n",
    "data.head()"
   ]
  },
  {
   "cell_type": "raw",
   "id": "7b9288ec-b300-4674-88eb-cd4b266e3efc",
   "metadata": {},
   "source": [
    "## Cleaning up strings and setting categorical variables"
   ]
  },
  {
   "cell_type": "code",
   "execution_count": 52,
   "id": "32b6979f-0a78-4538-8500-171a8601059e",
   "metadata": {
    "scrolled": true
   },
   "outputs": [],
   "source": [
    "#Update organ names for clarity for labels\n",
    "data.organ = data.organ.str.replace(\"left \",\"\", regex=True)\n",
    "data.organ = data.organ.str.replace(\"right \",\"\", regex=True)\n",
    "data.organ = data.organ.str.replace(\"Set of \",\"\", regex=True)\n",
    "data.organ = data.organ.str.title()\n",
    "data.organ = data.organ.str.replace(\"In\",\"in\", regex=True)\n",
    "\n",
    "# Set revised values to categories\n",
    "data.organ = data.organ.astype(\"category\")\n",
    "data.organId = data.organId.astype(\"category\")\n",
    "data.reported_organ = data.reported_organ.astype(\"category\")\n",
    "data.consortium_name = data.consortium_name.astype(\"category\")\n",
    "data.dataset = data.dataset.astype(\"category\")\n",
    "data.modality = data.modality.astype(\"category\")\n",
    "data.cell_id = data.cell_id.astype(\"category\")\n",
    "data.cell_label = data.cell_label.astype(\"category\")"
   ]
  },
  {
   "cell_type": "markdown",
   "id": "41c71500-b2f5-4292-ae95-8183f1352415",
   "metadata": {
    "scrolled": true
   },
   "source": [
    "## Create Pivot tables using datasets and cell_ids.\n",
    "\n",
    "The first pivot table collects the measured cell type counts for each dataset. The second pivot table collects the percentage of cell types for each dataset. Both use the minimum aggregation function, as is only one measurement per cell type per data set."
   ]
  },
  {
   "cell_type": "code",
   "execution_count": 73,
   "id": "9557281c-1cf5-451f-90a1-544197e3f601",
   "metadata": {
    "scrolled": true
   },
   "outputs": [],
   "source": [
    "data_celltype = data.pivot_table(index='dataset',\n",
    "                                 columns='cell_id',\n",
    "                                 values='cell_count',\n",
    "                                 aggfunc='min',\n",
    "                                 fill_value='0',\n",
    "                                 observed=True,\n",
    "                                 margins=False)"
   ]
  },
  {
   "cell_type": "code",
   "execution_count": 74,
   "id": "ceee3c2c-4763-4b5e-bc41-cbbef3802880",
   "metadata": {
    "scrolled": true
   },
   "outputs": [],
   "source": [
    "data_cellperc = data.pivot_table(index='dataset',\n",
    "                                 columns='cell_id',\n",
    "                                 values='percentage',\n",
    "                                 aggfunc='min',\n",
    "                                 fill_value='0',\n",
    "                                 observed=True,\n",
    "                                 margins=False)"
   ]
  },
  {
   "cell_type": "code",
   "execution_count": 120,
   "id": "54ae1db0-a344-4d9e-a5da-56ce1b13fb45",
   "metadata": {},
   "outputs": [
    {
     "name": "stdout",
     "output_type": "stream",
     "text": [
      "                                                 dataset               organ\n",
      "0      https://api.cellxgene.cziscience.com/dp/v1/col...  Respiratory System\n",
      "102    https://api.cellxgene.cziscience.com/dp/v1/col...  Respiratory System\n",
      "219    https://api.cellxgene.cziscience.com/dp/v1/col...  Respiratory System\n",
      "331    https://api.cellxgene.cziscience.com/dp/v1/col...  Respiratory System\n",
      "446    https://api.cellxgene.cziscience.com/dp/v1/col...  Respiratory System\n",
      "...                                                  ...                 ...\n",
      "36407  https://entity.api.hubmapconsortium.org/entiti...              Kidney\n",
      "36448  https://entity.api.hubmapconsortium.org/entiti...     Large intestine\n",
      "36463  https://entity.api.hubmapconsortium.org/entiti...     Urinary Bladder\n",
      "36477  https://entity.api.sennetconsortium.org/entiti...               Liver\n",
      "36505  https://entity.api.sennetconsortium.org/entiti...               Liver\n",
      "\n",
      "[707 rows x 2 columns]\n"
     ]
    }
   ],
   "source": [
    "data_organs = data[['dataset','organ']].drop_duplicates()\n",
    "\n",
    "\n"
   ]
  },
  {
   "cell_type": "code",
   "execution_count": 83,
   "id": "40397ba6-6a27-4e3a-b9de-009cbd7e9c98",
   "metadata": {},
   "outputs": [],
   "source": [
    "scaled_penguin_data = StandardScaler().fit_transform(data_celltype)"
   ]
  },
  {
   "cell_type": "code",
   "execution_count": 90,
   "id": "506d00a0-74c8-4102-a0a4-516441f55ee1",
   "metadata": {},
   "outputs": [
    {
     "data": {
      "text/plain": [
       "(707, 2)"
      ]
     },
     "execution_count": 90,
     "metadata": {},
     "output_type": "execute_result"
    }
   ],
   "source": [
    "reducer = umap.UMAP()\n",
    "embedding = reducer.fit_transform(scaled_penguin_data)\n",
    "embedding.shape"
   ]
  },
  {
   "cell_type": "code",
   "execution_count": 121,
   "id": "df2be0c0-4c01-4b20-8e14-cdff02b381bf",
   "metadata": {},
   "outputs": [
    {
     "ename": "TypeError",
     "evalue": "list indices must be integers or slices, not float",
     "output_type": "error",
     "traceback": [
      "\u001b[1;31m---------------------------------------------------------------------------\u001b[0m",
      "\u001b[1;31mTypeError\u001b[0m                                 Traceback (most recent call last)",
      "Cell \u001b[1;32mIn[121], line 4\u001b[0m\n\u001b[0;32m      1\u001b[0m plt\u001b[38;5;241m.\u001b[39mscatter(\n\u001b[0;32m      2\u001b[0m     embedding[:, \u001b[38;5;241m0\u001b[39m],\n\u001b[0;32m      3\u001b[0m     embedding[:, \u001b[38;5;241m1\u001b[39m],\n\u001b[1;32m----> 4\u001b[0m     c\u001b[38;5;241m=\u001b[39m\u001b[43m[\u001b[49m\u001b[43msns\u001b[49m\u001b[38;5;241;43m.\u001b[39;49m\u001b[43mcolor_palette\u001b[49m\u001b[43m(\u001b[49m\u001b[43m)\u001b[49m\u001b[43m[\u001b[49m\u001b[43mx\u001b[49m\u001b[43m]\u001b[49m\u001b[43m \u001b[49m\u001b[38;5;28;43;01mfor\u001b[39;49;00m\u001b[43m \u001b[49m\u001b[43mx\u001b[49m\u001b[43m \u001b[49m\u001b[38;5;129;43;01min\u001b[39;49;00m\u001b[43m \u001b[49m\u001b[43mdata_organs\u001b[49m\u001b[38;5;241;43m.\u001b[39;49m\u001b[43morgan\u001b[49m\u001b[38;5;241;43m.\u001b[39;49m\u001b[43mmap\u001b[49m\u001b[43m(\u001b[49m\u001b[43m{\u001b[49m\u001b[38;5;124;43m\"\u001b[39;49m\u001b[38;5;124;43mHeart\u001b[39;49m\u001b[38;5;124;43m\"\u001b[39;49m\u001b[43m:\u001b[49m\u001b[38;5;241;43m0\u001b[39;49m\u001b[43m,\u001b[49m\u001b[43m \u001b[49m\u001b[38;5;124;43m\"\u001b[39;49m\u001b[38;5;124;43mKidney\u001b[39;49m\u001b[38;5;124;43m\"\u001b[39;49m\u001b[43m:\u001b[49m\u001b[38;5;241;43m1\u001b[39;49m\u001b[43m,\u001b[49m\u001b[43m \u001b[49m\u001b[38;5;124;43m\"\u001b[39;49m\u001b[38;5;124;43mLactiferous Glands in Breast\u001b[39;49m\u001b[38;5;124;43m\"\u001b[39;49m\u001b[43m:\u001b[49m\u001b[38;5;241;43m2\u001b[39;49m\u001b[43m,\u001b[49m\u001b[43m \u001b[49m\u001b[38;5;124;43m\"\u001b[39;49m\u001b[38;5;124;43mLarge intestine\u001b[39;49m\u001b[38;5;124;43m\"\u001b[39;49m\u001b[43m:\u001b[49m\u001b[38;5;241;43m3\u001b[39;49m\u001b[43m,\u001b[49m\n\u001b[0;32m      5\u001b[0m \u001b[43m                                                       \u001b[49m\u001b[38;5;124;43m\"\u001b[39;49m\u001b[38;5;124;43mLiver\u001b[39;49m\u001b[38;5;124;43m\"\u001b[39;49m\u001b[43m:\u001b[49m\u001b[38;5;241;43m4\u001b[39;49m\u001b[43m,\u001b[49m\u001b[43m \u001b[49m\u001b[38;5;124;43m\"\u001b[39;49m\u001b[38;5;124;43mMale Reproductive System\u001b[39;49m\u001b[38;5;124;43m\"\u001b[39;49m\u001b[43m:\u001b[49m\u001b[38;5;241;43m5\u001b[39;49m\u001b[43m,\u001b[49m\u001b[43m \u001b[49m\u001b[38;5;124;43m\"\u001b[39;49m\u001b[38;5;124;43mMesenteric Lymph Node\u001b[39;49m\u001b[38;5;124;43m\"\u001b[39;49m\u001b[43m:\u001b[49m\u001b[38;5;241;43m6\u001b[39;49m\u001b[43m,\u001b[49m\u001b[43m \u001b[49m\u001b[38;5;124;43m\"\u001b[39;49m\u001b[38;5;124;43mRespiratory System\u001b[39;49m\u001b[38;5;124;43m\"\u001b[39;49m\u001b[43m:\u001b[49m\u001b[38;5;241;43m7\u001b[39;49m\u001b[43m,\u001b[49m\n\u001b[0;32m      6\u001b[0m \u001b[43m                                                       \u001b[49m\u001b[38;5;124;43m\"\u001b[39;49m\u001b[38;5;124;43mSkin Of Body\u001b[39;49m\u001b[38;5;124;43m\"\u001b[39;49m\u001b[43m:\u001b[49m\u001b[38;5;241;43m8\u001b[39;49m\u001b[43m,\u001b[49m\u001b[43m \u001b[49m\u001b[38;5;124;43m\"\u001b[39;49m\u001b[38;5;124;43mSmall intestine\u001b[39;49m\u001b[38;5;124;43m\"\u001b[39;49m\u001b[43m:\u001b[49m\u001b[38;5;241;43m9\u001b[39;49m\u001b[43m,\u001b[49m\u001b[43m \u001b[49m\u001b[38;5;124;43m\"\u001b[39;49m\u001b[38;5;124;43mSpleen\u001b[39;49m\u001b[38;5;124;43m\"\u001b[39;49m\u001b[43m:\u001b[49m\u001b[38;5;241;43m10\u001b[39;49m\u001b[43m,\u001b[49m\u001b[43m \u001b[49m\u001b[38;5;124;43m\"\u001b[39;49m\u001b[38;5;124;43mUterer\u001b[39;49m\u001b[38;5;124;43m\"\u001b[39;49m\u001b[43m:\u001b[49m\u001b[38;5;241;43m11\u001b[39;49m\u001b[43m,\u001b[49m\u001b[43m \u001b[49m\u001b[38;5;124;43m\"\u001b[39;49m\u001b[38;5;124;43mUrinary Bladder\u001b[39;49m\u001b[38;5;124;43m\"\u001b[39;49m\u001b[43m:\u001b[49m\u001b[38;5;241;43m12\u001b[39;49m\u001b[43m}\u001b[49m\u001b[43m)\u001b[49m\u001b[43m]\u001b[49m)\n\u001b[0;32m      7\u001b[0m plt\u001b[38;5;241m.\u001b[39mgca()\u001b[38;5;241m.\u001b[39mset_aspect(\u001b[38;5;124m'\u001b[39m\u001b[38;5;124mequal\u001b[39m\u001b[38;5;124m'\u001b[39m, \u001b[38;5;124m'\u001b[39m\u001b[38;5;124mdatalim\u001b[39m\u001b[38;5;124m'\u001b[39m)\n\u001b[0;32m      8\u001b[0m plt\u001b[38;5;241m.\u001b[39mtitle(\u001b[38;5;124m'\u001b[39m\u001b[38;5;124mUMAP projection of the HRA-Pop Cell Type dataset\u001b[39m\u001b[38;5;124m'\u001b[39m, fontsize\u001b[38;5;241m=\u001b[39m\u001b[38;5;241m24\u001b[39m);\n",
      "Cell \u001b[1;32mIn[121], line 4\u001b[0m, in \u001b[0;36m<listcomp>\u001b[1;34m(.0)\u001b[0m\n\u001b[0;32m      1\u001b[0m plt\u001b[38;5;241m.\u001b[39mscatter(\n\u001b[0;32m      2\u001b[0m     embedding[:, \u001b[38;5;241m0\u001b[39m],\n\u001b[0;32m      3\u001b[0m     embedding[:, \u001b[38;5;241m1\u001b[39m],\n\u001b[1;32m----> 4\u001b[0m     c\u001b[38;5;241m=\u001b[39m[\u001b[43msns\u001b[49m\u001b[38;5;241;43m.\u001b[39;49m\u001b[43mcolor_palette\u001b[49m\u001b[43m(\u001b[49m\u001b[43m)\u001b[49m\u001b[43m[\u001b[49m\u001b[43mx\u001b[49m\u001b[43m]\u001b[49m \u001b[38;5;28;01mfor\u001b[39;00m x \u001b[38;5;129;01min\u001b[39;00m data_organs\u001b[38;5;241m.\u001b[39morgan\u001b[38;5;241m.\u001b[39mmap({\u001b[38;5;124m\"\u001b[39m\u001b[38;5;124mHeart\u001b[39m\u001b[38;5;124m\"\u001b[39m:\u001b[38;5;241m0\u001b[39m, \u001b[38;5;124m\"\u001b[39m\u001b[38;5;124mKidney\u001b[39m\u001b[38;5;124m\"\u001b[39m:\u001b[38;5;241m1\u001b[39m, \u001b[38;5;124m\"\u001b[39m\u001b[38;5;124mLactiferous Glands in Breast\u001b[39m\u001b[38;5;124m\"\u001b[39m:\u001b[38;5;241m2\u001b[39m, \u001b[38;5;124m\"\u001b[39m\u001b[38;5;124mLarge intestine\u001b[39m\u001b[38;5;124m\"\u001b[39m:\u001b[38;5;241m3\u001b[39m,\n\u001b[0;32m      5\u001b[0m                                                        \u001b[38;5;124m\"\u001b[39m\u001b[38;5;124mLiver\u001b[39m\u001b[38;5;124m\"\u001b[39m:\u001b[38;5;241m4\u001b[39m, \u001b[38;5;124m\"\u001b[39m\u001b[38;5;124mMale Reproductive System\u001b[39m\u001b[38;5;124m\"\u001b[39m:\u001b[38;5;241m5\u001b[39m, \u001b[38;5;124m\"\u001b[39m\u001b[38;5;124mMesenteric Lymph Node\u001b[39m\u001b[38;5;124m\"\u001b[39m:\u001b[38;5;241m6\u001b[39m, \u001b[38;5;124m\"\u001b[39m\u001b[38;5;124mRespiratory System\u001b[39m\u001b[38;5;124m\"\u001b[39m:\u001b[38;5;241m7\u001b[39m,\n\u001b[0;32m      6\u001b[0m                                                        \u001b[38;5;124m\"\u001b[39m\u001b[38;5;124mSkin Of Body\u001b[39m\u001b[38;5;124m\"\u001b[39m:\u001b[38;5;241m8\u001b[39m, \u001b[38;5;124m\"\u001b[39m\u001b[38;5;124mSmall intestine\u001b[39m\u001b[38;5;124m\"\u001b[39m:\u001b[38;5;241m9\u001b[39m, \u001b[38;5;124m\"\u001b[39m\u001b[38;5;124mSpleen\u001b[39m\u001b[38;5;124m\"\u001b[39m:\u001b[38;5;241m10\u001b[39m, \u001b[38;5;124m\"\u001b[39m\u001b[38;5;124mUterer\u001b[39m\u001b[38;5;124m\"\u001b[39m:\u001b[38;5;241m11\u001b[39m, \u001b[38;5;124m\"\u001b[39m\u001b[38;5;124mUrinary Bladder\u001b[39m\u001b[38;5;124m\"\u001b[39m:\u001b[38;5;241m12\u001b[39m})])\n\u001b[0;32m      7\u001b[0m plt\u001b[38;5;241m.\u001b[39mgca()\u001b[38;5;241m.\u001b[39mset_aspect(\u001b[38;5;124m'\u001b[39m\u001b[38;5;124mequal\u001b[39m\u001b[38;5;124m'\u001b[39m, \u001b[38;5;124m'\u001b[39m\u001b[38;5;124mdatalim\u001b[39m\u001b[38;5;124m'\u001b[39m)\n\u001b[0;32m      8\u001b[0m plt\u001b[38;5;241m.\u001b[39mtitle(\u001b[38;5;124m'\u001b[39m\u001b[38;5;124mUMAP projection of the HRA-Pop Cell Type dataset\u001b[39m\u001b[38;5;124m'\u001b[39m, fontsize\u001b[38;5;241m=\u001b[39m\u001b[38;5;241m24\u001b[39m);\n",
      "\u001b[1;31mTypeError\u001b[0m: list indices must be integers or slices, not float"
     ]
    }
   ],
   "source": [
    "plt.scatter(\n",
    "    embedding[:, 0],\n",
    "    embedding[:, 1],\n",
    "    c=[sns.color_palette()[x] for x in data_organs.organ.map({\"Heart\":0, \"Kidney\":1, \"Lactiferous Glands in Breast\":2, \"Large intestine\":3,\n",
    "                                                              \"Liver\":4, \"Male Reproductive System\":5, \"Mesenteric Lymph Node\":6, \"Respiratory System\":7,\n",
    "                                                              \"Skin Of Body\":8, \"Small intestine\":9, \"Spleen\":10, \"Uterer\":11, \"Urinary Bladder\":12})])\n",
    "plt.gca().set_aspect('equal', 'datalim')\n",
    "plt.title('UMAP projection of the HRA-Pop Cell Type dataset', fontsize=24);"
   ]
  },
  {
   "cell_type": "code",
   "execution_count": null,
   "id": "bf522daa-b236-49a4-8b85-ad6f431b1286",
   "metadata": {},
   "outputs": [],
   "source": []
  }
 ],
 "metadata": {
  "kernelspec": {
   "display_name": "Python 3 (ipykernel)",
   "language": "python",
   "name": "python3"
  },
  "language_info": {
   "codemirror_mode": {
    "name": "ipython",
    "version": 3
   },
   "file_extension": ".py",
   "mimetype": "text/x-python",
   "name": "python",
   "nbconvert_exporter": "python",
   "pygments_lexer": "ipython3",
   "version": "3.11.8"
  }
 },
 "nbformat": 4,
 "nbformat_minor": 5
}

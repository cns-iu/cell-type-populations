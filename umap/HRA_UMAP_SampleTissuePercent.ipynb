{
 "cells": [
  {
   "cell_type": "markdown",
   "id": "c81840e8-7d20-4222-be3d-e3f293054e3c",
   "metadata": {},
   "source": [
    "## Set Up Environment"
   ]
  },
  {
   "cell_type": "code",
   "execution_count": 162,
   "id": "66a7a372-3981-405a-8385-6af99d910737",
   "metadata": {},
   "outputs": [],
   "source": [
    "import numpy as np\n",
    "from sklearn.datasets import load_digits\n",
    "from sklearn.model_selection import train_test_split\n",
    "from sklearn.preprocessing import StandardScaler\n",
    "import matplotlib.pyplot as plt\n",
    "import seaborn as sns\n",
    "import pandas as pd\n",
    "import re\n",
    "import umap\n",
    "%matplotlib inline"
   ]
  },
  {
   "cell_type": "code",
   "execution_count": 163,
   "id": "e2d8ca3d-0bf6-4b04-bfa0-d028e9f9380c",
   "metadata": {},
   "outputs": [],
   "source": [
    "sns.set(style='white', context='notebook', rc={'figure.figsize':(14,10)})"
   ]
  },
  {
   "cell_type": "markdown",
   "id": "391d3283-fc05-4ed7-a048-9af277400630",
   "metadata": {},
   "source": [
    "## Loading data"
   ]
  },
  {
   "cell_type": "code",
   "execution_count": 173,
   "id": "8039ce73-49a7-4db2-8724-d4b0a5e8774b",
   "metadata": {},
   "outputs": [
    {
     "data": {
      "text/html": [
       "<div>\n",
       "<style scoped>\n",
       "    .dataframe tbody tr th:only-of-type {\n",
       "        vertical-align: middle;\n",
       "    }\n",
       "\n",
       "    .dataframe tbody tr th {\n",
       "        vertical-align: top;\n",
       "    }\n",
       "\n",
       "    .dataframe thead th {\n",
       "        text-align: right;\n",
       "    }\n",
       "</style>\n",
       "<table border=\"1\" class=\"dataframe\">\n",
       "  <thead>\n",
       "    <tr style=\"text-align: right;\">\n",
       "      <th></th>\n",
       "      <th>dataset_combinations</th>\n",
       "      <th>organ</th>\n",
       "      <th>as_item_combinations</th>\n",
       "      <th>jejunum</th>\n",
       "      <th>descending colon</th>\n",
       "      <th>superior part of duodenum</th>\n",
       "      <th>descending part of duodenum</th>\n",
       "      <th>ascending part of duodenum</th>\n",
       "      <th>horizontal part of duodenum</th>\n",
       "      <th>sigmoid colon</th>\n",
       "      <th>...</th>\n",
       "      <th>diaphragmatic surface of liver</th>\n",
       "      <th>capsule of the liver</th>\n",
       "      <th>left cardiac atrium</th>\n",
       "      <th>right cardiac atrium</th>\n",
       "      <th>Posteromedial head of posterior papillary muscle of left ventricle</th>\n",
       "      <th>Lateral segmental bronchus</th>\n",
       "      <th>Left apical bronchopulmonary segment</th>\n",
       "      <th>central zone of prostate</th>\n",
       "      <th>peripheral zone of prostate</th>\n",
       "      <th>Interlobar adipose tissue of right mammary gland</th>\n",
       "    </tr>\n",
       "  </thead>\n",
       "  <tbody>\n",
       "    <tr>\n",
       "      <th>0</th>\n",
       "      <td>['https://entity.api.hubmapconsortium.org/enti...</td>\n",
       "      <td>VHFSmallIntestine</td>\n",
       "      <td>[{'label': 'jejunum', 'percentage': 0.103}]</td>\n",
       "      <td>0.103</td>\n",
       "      <td>0.000</td>\n",
       "      <td>0.000</td>\n",
       "      <td>0.000</td>\n",
       "      <td>0.000</td>\n",
       "      <td>0.000</td>\n",
       "      <td>0.000</td>\n",
       "      <td>...</td>\n",
       "      <td>0.0</td>\n",
       "      <td>0.0</td>\n",
       "      <td>0.0</td>\n",
       "      <td>0.0</td>\n",
       "      <td>0.0</td>\n",
       "      <td>0.0</td>\n",
       "      <td>0</td>\n",
       "      <td>0.0</td>\n",
       "      <td>0.0</td>\n",
       "      <td>0.0</td>\n",
       "    </tr>\n",
       "    <tr>\n",
       "      <th>1</th>\n",
       "      <td>['https://entity.api.hubmapconsortium.org/enti...</td>\n",
       "      <td>VHFColon</td>\n",
       "      <td>[{'label': 'descending colon', 'percentage': 0...</td>\n",
       "      <td>0.000</td>\n",
       "      <td>0.883</td>\n",
       "      <td>0.000</td>\n",
       "      <td>0.000</td>\n",
       "      <td>0.000</td>\n",
       "      <td>0.000</td>\n",
       "      <td>0.000</td>\n",
       "      <td>...</td>\n",
       "      <td>0.0</td>\n",
       "      <td>0.0</td>\n",
       "      <td>0.0</td>\n",
       "      <td>0.0</td>\n",
       "      <td>0.0</td>\n",
       "      <td>0.0</td>\n",
       "      <td>0</td>\n",
       "      <td>0.0</td>\n",
       "      <td>0.0</td>\n",
       "      <td>0.0</td>\n",
       "    </tr>\n",
       "    <tr>\n",
       "      <th>2</th>\n",
       "      <td>['https://entity.api.hubmapconsortium.org/enti...</td>\n",
       "      <td>VHFSmallIntestine</td>\n",
       "      <td>[{'label': 'superior part of duodenum', 'perce...</td>\n",
       "      <td>0.000</td>\n",
       "      <td>0.000</td>\n",
       "      <td>0.026</td>\n",
       "      <td>0.032</td>\n",
       "      <td>0.000</td>\n",
       "      <td>0.000</td>\n",
       "      <td>0.000</td>\n",
       "      <td>...</td>\n",
       "      <td>0.0</td>\n",
       "      <td>0.0</td>\n",
       "      <td>0.0</td>\n",
       "      <td>0.0</td>\n",
       "      <td>0.0</td>\n",
       "      <td>0.0</td>\n",
       "      <td>0</td>\n",
       "      <td>0.0</td>\n",
       "      <td>0.0</td>\n",
       "      <td>0.0</td>\n",
       "    </tr>\n",
       "    <tr>\n",
       "      <th>3</th>\n",
       "      <td>['https://entity.api.hubmapconsortium.org/enti...</td>\n",
       "      <td>VHFSmallIntestine</td>\n",
       "      <td>[{'label': 'ascending part of duodenum', 'perc...</td>\n",
       "      <td>0.000</td>\n",
       "      <td>0.000</td>\n",
       "      <td>0.000</td>\n",
       "      <td>0.000</td>\n",
       "      <td>0.051</td>\n",
       "      <td>0.092</td>\n",
       "      <td>0.000</td>\n",
       "      <td>...</td>\n",
       "      <td>0.0</td>\n",
       "      <td>0.0</td>\n",
       "      <td>0.0</td>\n",
       "      <td>0.0</td>\n",
       "      <td>0.0</td>\n",
       "      <td>0.0</td>\n",
       "      <td>0</td>\n",
       "      <td>0.0</td>\n",
       "      <td>0.0</td>\n",
       "      <td>0.0</td>\n",
       "    </tr>\n",
       "    <tr>\n",
       "      <th>4</th>\n",
       "      <td>['https://entity.api.hubmapconsortium.org/enti...</td>\n",
       "      <td>VHFColon</td>\n",
       "      <td>[{'label': 'sigmoid colon', 'percentage': 0.052}]</td>\n",
       "      <td>0.000</td>\n",
       "      <td>0.000</td>\n",
       "      <td>0.000</td>\n",
       "      <td>0.000</td>\n",
       "      <td>0.000</td>\n",
       "      <td>0.000</td>\n",
       "      <td>0.052</td>\n",
       "      <td>...</td>\n",
       "      <td>0.0</td>\n",
       "      <td>0.0</td>\n",
       "      <td>0.0</td>\n",
       "      <td>0.0</td>\n",
       "      <td>0.0</td>\n",
       "      <td>0.0</td>\n",
       "      <td>0</td>\n",
       "      <td>0.0</td>\n",
       "      <td>0.0</td>\n",
       "      <td>0.0</td>\n",
       "    </tr>\n",
       "  </tbody>\n",
       "</table>\n",
       "<p>5 rows × 43 columns</p>\n",
       "</div>"
      ],
      "text/plain": [
       "                                dataset_combinations              organ  \\\n",
       "0  ['https://entity.api.hubmapconsortium.org/enti...  VHFSmallIntestine   \n",
       "1  ['https://entity.api.hubmapconsortium.org/enti...           VHFColon   \n",
       "2  ['https://entity.api.hubmapconsortium.org/enti...  VHFSmallIntestine   \n",
       "3  ['https://entity.api.hubmapconsortium.org/enti...  VHFSmallIntestine   \n",
       "4  ['https://entity.api.hubmapconsortium.org/enti...           VHFColon   \n",
       "\n",
       "                                as_item_combinations  jejunum  \\\n",
       "0        [{'label': 'jejunum', 'percentage': 0.103}]    0.103   \n",
       "1  [{'label': 'descending colon', 'percentage': 0...    0.000   \n",
       "2  [{'label': 'superior part of duodenum', 'perce...    0.000   \n",
       "3  [{'label': 'ascending part of duodenum', 'perc...    0.000   \n",
       "4  [{'label': 'sigmoid colon', 'percentage': 0.052}]    0.000   \n",
       "\n",
       "   descending colon  superior part of duodenum  descending part of duodenum  \\\n",
       "0             0.000                      0.000                        0.000   \n",
       "1             0.883                      0.000                        0.000   \n",
       "2             0.000                      0.026                        0.032   \n",
       "3             0.000                      0.000                        0.000   \n",
       "4             0.000                      0.000                        0.000   \n",
       "\n",
       "   ascending part of duodenum  horizontal part of duodenum  sigmoid colon  \\\n",
       "0                       0.000                        0.000          0.000   \n",
       "1                       0.000                        0.000          0.000   \n",
       "2                       0.000                        0.000          0.000   \n",
       "3                       0.051                        0.092          0.000   \n",
       "4                       0.000                        0.000          0.052   \n",
       "\n",
       "   ...  diaphragmatic surface of liver  capsule of the liver  \\\n",
       "0  ...                             0.0                   0.0   \n",
       "1  ...                             0.0                   0.0   \n",
       "2  ...                             0.0                   0.0   \n",
       "3  ...                             0.0                   0.0   \n",
       "4  ...                             0.0                   0.0   \n",
       "\n",
       "   left cardiac atrium  right cardiac atrium  \\\n",
       "0                  0.0                   0.0   \n",
       "1                  0.0                   0.0   \n",
       "2                  0.0                   0.0   \n",
       "3                  0.0                   0.0   \n",
       "4                  0.0                   0.0   \n",
       "\n",
       "   Posteromedial head of posterior papillary muscle of left ventricle  \\\n",
       "0                                                0.0                    \n",
       "1                                                0.0                    \n",
       "2                                                0.0                    \n",
       "3                                                0.0                    \n",
       "4                                                0.0                    \n",
       "\n",
       "   Lateral segmental bronchus  Left apical bronchopulmonary segment  \\\n",
       "0                         0.0                                     0   \n",
       "1                         0.0                                     0   \n",
       "2                         0.0                                     0   \n",
       "3                         0.0                                     0   \n",
       "4                         0.0                                     0   \n",
       "\n",
       "   central zone of prostate  peripheral zone of prostate  \\\n",
       "0                       0.0                          0.0   \n",
       "1                       0.0                          0.0   \n",
       "2                       0.0                          0.0   \n",
       "3                       0.0                          0.0   \n",
       "4                       0.0                          0.0   \n",
       "\n",
       "   Interlobar adipose tissue of right mammary gland  \n",
       "0                                               0.0  \n",
       "1                                               0.0  \n",
       "2                                               0.0  \n",
       "3                                               0.0  \n",
       "4                                               0.0  \n",
       "\n",
       "[5 rows x 43 columns]"
      ]
     },
     "execution_count": 173,
     "metadata": {},
     "output_type": "execute_result"
    }
   ],
   "source": [
    "data = pd.read_csv(\"https://raw.githubusercontent.com/cns-iu/hra-cell-type-populations-supporting-information/main/ad_hoc_queries/output/umap_as_percentage.csv\")\n",
    "data.head()"
   ]
  },
  {
   "cell_type": "markdown",
   "id": "593054f9-d77f-4771-bd65-497add9e162e",
   "metadata": {},
   "source": [
    "## Preparing Categorical Variables"
   ]
  },
  {
   "cell_type": "code",
   "execution_count": 174,
   "id": "a7320353-003c-4425-81cf-d6fa3de90ea5",
   "metadata": {},
   "outputs": [],
   "source": [
    "# Creates variable for biological sex.\n",
    "data['sex'] = np.where(data['organ'].str.contains('VHF'),'female','male')\n",
    "data.sex = data.sex.astype(\"category\")"
   ]
  },
  {
   "cell_type": "code",
   "execution_count": 175,
   "id": "535c3778-bdb8-46bf-80fa-3c72850f9899",
   "metadata": {},
   "outputs": [],
   "source": [
    "# Removes VHM & VHF from organ names\n",
    "data.organ = data.organ.str.replace(\"VHF\",\"\", regex=True)\n",
    "data.organ = data.organ.str.replace(\"VHM\",\"\", regex=True)\n",
    "data.organ = data.organ.astype(\"category\")\n",
    "data['organCode'] = data['organ'].cat.codes"
   ]
  },
  {
   "cell_type": "code",
   "execution_count": null,
   "id": "8016c54d-e721-491f-94bf-4a985dcd51f6",
   "metadata": {},
   "outputs": [],
   "source": [
    "# Creates object with list of organs\n",
    "data_organs = data[['dataset_combinations','organ','organCode']].drop_duplicates()"
   ]
  },
  {
   "cell_type": "code",
   "execution_count": 197,
   "id": "eff80bba-d072-49d8-8b78-35ef00095718",
   "metadata": {},
   "outputs": [],
   "source": [
    "# Creates dataset for UMAP\n",
    "data_umap = data.iloc[0:282, 3:43]"
   ]
  },
  {
   "cell_type": "markdown",
   "id": "f3658f7f-dea4-4bc3-9c91-2cac0d5753a0",
   "metadata": {},
   "source": [
    "## UMAP Analysis"
   ]
  },
  {
   "cell_type": "code",
   "execution_count": 198,
   "id": "006d5e1e-1795-4a2a-8899-1e150532a078",
   "metadata": {},
   "outputs": [],
   "source": [
    "scaled_data_umap = StandardScaler().fit_transform(data_umap)"
   ]
  },
  {
   "cell_type": "code",
   "execution_count": 199,
   "id": "726947e7-3dd5-4208-9782-fa3c28a334a7",
   "metadata": {},
   "outputs": [
    {
     "data": {
      "text/plain": [
       "(282, 2)"
      ]
     },
     "execution_count": 199,
     "metadata": {},
     "output_type": "execute_result"
    }
   ],
   "source": [
    "reducer = umap.UMAP()\n",
    "embedding = reducer.fit_transform(scaled_data_umap)\n",
    "embedding.shape"
   ]
  },
  {
   "cell_type": "code",
   "execution_count": 200,
   "id": "c0444fe7-4188-4cfd-b248-5cd2bd03f2bd",
   "metadata": {},
   "outputs": [
    {
     "data": {
      "image/png": "[encoded data removed]",
      "text/plain": [
       "<Figure size 1400x1000 with 1 Axes>"
      ]
     },
     "metadata": {},
     "output_type": "display_data"
    }
   ],
   "source": [
    "plt.scatter(\n",
    "    embedding[:, 0],\n",
    "    embedding[:, 1],\n",
    "    c=data_organs.organCode,  cmap='Paired'\n",
    ")\n",
    "plt.gca().set_aspect('equal', 'datalim')\n",
    "plt.title('UMAP projection of the HRA-Pop Cell Type dataset', fontsize=24);"
   ]
  }
 ],
 "metadata": {
  "kernelspec": {
   "display_name": "Python 3 (ipykernel)",
   "language": "python",
   "name": "python3"
  },
  "language_info": {
   "codemirror_mode": {
    "name": "ipython",
    "version": 3
   },
   "file_extension": ".py",
   "mimetype": "text/x-python",
   "name": "python",
   "nbconvert_exporter": "python",
   "pygments_lexer": "ipython3",
   "version": "3.11.8"
  }
 },
 "nbformat": 4,
 "nbformat_minor": 5
}

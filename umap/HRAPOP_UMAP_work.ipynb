{
 "cells": [
  {
   "cell_type": "markdown",
   "id": "43b9c409-e31e-4eec-a469-044c1a61a4da",
   "metadata": {},
   "source": [
    "## Setting up environment"
   ]
  },
  {
   "cell_type": "code",
   "execution_count": 129,
   "id": "739a0b5d-1406-4329-8a8a-4d7bf5fc8bba",
   "metadata": {},
   "outputs": [],
   "source": [
    "import numpy as np\n",
    "from sklearn.datasets import load_digits\n",
    "from sklearn.model_selection import train_test_split\n",
    "from sklearn.preprocessing import StandardScaler\n",
    "import matplotlib.pyplot as plt\n",
    "import seaborn as sns\n",
    "import pandas as pd\n",
    "import umap\n",
    "%matplotlib inline"
   ]
  },
  {
   "cell_type": "code",
   "execution_count": 130,
   "id": "3796f53e-6fc8-41cf-95d6-51be736c028d",
   "metadata": {},
   "outputs": [],
   "source": [
    "sns.set(style='white', context='notebook', rc={'figure.figsize':(14,10)})"
   ]
  },
  {
   "cell_type": "markdown",
   "id": "f805c605-02aa-4afc-982e-33892f109e6f",
   "metadata": {},
   "source": [
    "## Loading data"
   ]
  },
  {
   "cell_type": "code",
   "execution_count": 139,
   "id": "560acdeb-278c-4857-b2c6-b178501aceb5",
   "metadata": {
    "scrolled": true
   },
   "outputs": [
    {
     "data": {
      "text/html": [
       "<div>\n",
       "<style scoped>\n",
       "    .dataframe tbody tr th:only-of-type {\n",
       "        vertical-align: middle;\n",
       "    }\n",
       "\n",
       "    .dataframe tbody tr th {\n",
       "        vertical-align: top;\n",
       "    }\n",
       "\n",
       "    .dataframe thead th {\n",
       "        text-align: right;\n",
       "    }\n",
       "</style>\n",
       "<table border=\"1\" class=\"dataframe\">\n",
       "  <thead>\n",
       "    <tr style=\"text-align: right;\">\n",
       "      <th></th>\n",
       "      <th>sex</th>\n",
       "      <th>consortium_name</th>\n",
       "      <th>dataset</th>\n",
       "      <th>tool</th>\n",
       "      <th>modality</th>\n",
       "      <th>reported_organ</th>\n",
       "      <th>organ</th>\n",
       "      <th>organId</th>\n",
       "      <th>rui_location_volume</th>\n",
       "      <th>cell_id</th>\n",
       "      <th>cell_label</th>\n",
       "      <th>cell_count</th>\n",
       "      <th>percentage</th>\n",
       "    </tr>\n",
       "  </thead>\n",
       "  <tbody>\n",
       "    <tr>\n",
       "      <th>0</th>\n",
       "      <td>Female</td>\n",
       "      <td>NHLBI/LungMap</td>\n",
       "      <td>https://api.cellxgene.cziscience.com/dp/v1/col...</td>\n",
       "      <td>azimuth</td>\n",
       "      <td>sc_transcriptomics</td>\n",
       "      <td>http://purl.obolibrary.org/obo/UBERON_0002048</td>\n",
       "      <td>respiratory system</td>\n",
       "      <td>UBERON:0001004</td>\n",
       "      <td>75</td>\n",
       "      <td>CL:0002063</td>\n",
       "      <td>AT2</td>\n",
       "      <td>758</td>\n",
       "      <td>0.145294</td>\n",
       "    </tr>\n",
       "    <tr>\n",
       "      <th>1</th>\n",
       "      <td>Female</td>\n",
       "      <td>NHLBI/LungMap</td>\n",
       "      <td>https://api.cellxgene.cziscience.com/dp/v1/col...</td>\n",
       "      <td>azimuth</td>\n",
       "      <td>sc_transcriptomics</td>\n",
       "      <td>http://purl.obolibrary.org/obo/UBERON_0002048</td>\n",
       "      <td>respiratory system</td>\n",
       "      <td>UBERON:0001004</td>\n",
       "      <td>75</td>\n",
       "      <td>CL:0002062</td>\n",
       "      <td>AT1</td>\n",
       "      <td>745</td>\n",
       "      <td>0.142802</td>\n",
       "    </tr>\n",
       "    <tr>\n",
       "      <th>2</th>\n",
       "      <td>Female</td>\n",
       "      <td>NHLBI/LungMap</td>\n",
       "      <td>https://api.cellxgene.cziscience.com/dp/v1/col...</td>\n",
       "      <td>azimuth</td>\n",
       "      <td>sc_transcriptomics</td>\n",
       "      <td>http://purl.obolibrary.org/obo/UBERON_0002048</td>\n",
       "      <td>respiratory system</td>\n",
       "      <td>UBERON:0001004</td>\n",
       "      <td>75</td>\n",
       "      <td>ASCTB-TEMP:non-classical-monocytes</td>\n",
       "      <td>Non-classical monocytes</td>\n",
       "      <td>623</td>\n",
       "      <td>0.119417</td>\n",
       "    </tr>\n",
       "    <tr>\n",
       "      <th>3</th>\n",
       "      <td>Female</td>\n",
       "      <td>NHLBI/LungMap</td>\n",
       "      <td>https://api.cellxgene.cziscience.com/dp/v1/col...</td>\n",
       "      <td>azimuth</td>\n",
       "      <td>sc_transcriptomics</td>\n",
       "      <td>http://purl.obolibrary.org/obo/UBERON_0002048</td>\n",
       "      <td>respiratory system</td>\n",
       "      <td>UBERON:0001004</td>\n",
       "      <td>75</td>\n",
       "      <td>CL:0002144</td>\n",
       "      <td>EC general capillary</td>\n",
       "      <td>561</td>\n",
       "      <td>0.107533</td>\n",
       "    </tr>\n",
       "    <tr>\n",
       "      <th>4</th>\n",
       "      <td>Female</td>\n",
       "      <td>NHLBI/LungMap</td>\n",
       "      <td>https://api.cellxgene.cziscience.com/dp/v1/col...</td>\n",
       "      <td>azimuth</td>\n",
       "      <td>sc_transcriptomics</td>\n",
       "      <td>http://purl.obolibrary.org/obo/UBERON_0002048</td>\n",
       "      <td>respiratory system</td>\n",
       "      <td>UBERON:0001004</td>\n",
       "      <td>75</td>\n",
       "      <td>CL:0000913</td>\n",
       "      <td>CD8 T cells</td>\n",
       "      <td>478</td>\n",
       "      <td>0.091624</td>\n",
       "    </tr>\n",
       "  </tbody>\n",
       "</table>\n",
       "</div>"
      ],
      "text/plain": [
       "      sex consortium_name                                            dataset  \\\n",
       "0  Female   NHLBI/LungMap  https://api.cellxgene.cziscience.com/dp/v1/col...   \n",
       "1  Female   NHLBI/LungMap  https://api.cellxgene.cziscience.com/dp/v1/col...   \n",
       "2  Female   NHLBI/LungMap  https://api.cellxgene.cziscience.com/dp/v1/col...   \n",
       "3  Female   NHLBI/LungMap  https://api.cellxgene.cziscience.com/dp/v1/col...   \n",
       "4  Female   NHLBI/LungMap  https://api.cellxgene.cziscience.com/dp/v1/col...   \n",
       "\n",
       "      tool            modality                                 reported_organ  \\\n",
       "0  azimuth  sc_transcriptomics  http://purl.obolibrary.org/obo/UBERON_0002048   \n",
       "1  azimuth  sc_transcriptomics  http://purl.obolibrary.org/obo/UBERON_0002048   \n",
       "2  azimuth  sc_transcriptomics  http://purl.obolibrary.org/obo/UBERON_0002048   \n",
       "3  azimuth  sc_transcriptomics  http://purl.obolibrary.org/obo/UBERON_0002048   \n",
       "4  azimuth  sc_transcriptomics  http://purl.obolibrary.org/obo/UBERON_0002048   \n",
       "\n",
       "                organ         organId  rui_location_volume  \\\n",
       "0  respiratory system  UBERON:0001004                   75   \n",
       "1  respiratory system  UBERON:0001004                   75   \n",
       "2  respiratory system  UBERON:0001004                   75   \n",
       "3  respiratory system  UBERON:0001004                   75   \n",
       "4  respiratory system  UBERON:0001004                   75   \n",
       "\n",
       "                              cell_id               cell_label  cell_count  \\\n",
       "0                          CL:0002063                      AT2         758   \n",
       "1                          CL:0002062                      AT1         745   \n",
       "2  ASCTB-TEMP:non-classical-monocytes  Non-classical monocytes         623   \n",
       "3                          CL:0002144     EC general capillary         561   \n",
       "4                          CL:0000913              CD8 T cells         478   \n",
       "\n",
       "   percentage  \n",
       "0    0.145294  \n",
       "1    0.142802  \n",
       "2    0.119417  \n",
       "3    0.107533  \n",
       "4    0.091624  "
      ]
     },
     "execution_count": 139,
     "metadata": {},
     "output_type": "execute_result"
    }
   ],
   "source": [
    "data = pd.read_csv(\"https://raw.githubusercontent.com/x-atlas-consortia/hra-pop/main/output-data/v0.9.0/reports/atlas/validation-v5.csv\")\n",
    "data.head()"
   ]
  },
  {
   "cell_type": "raw",
   "id": "7b9288ec-b300-4674-88eb-cd4b266e3efc",
   "metadata": {},
   "source": [
    "## Cleaning up strings and setting categorical variables"
   ]
  },
  {
   "cell_type": "code",
   "execution_count": 140,
   "id": "32b6979f-0a78-4538-8500-171a8601059e",
   "metadata": {
    "scrolled": true
   },
   "outputs": [],
   "source": [
    "#Update organ names for clarity for labels\n",
    "data.organ = data.organ.str.replace(\"left \",\"\", regex=True)\n",
    "data.organ = data.organ.str.replace(\"right \",\"\", regex=True)\n",
    "data.organ = data.organ.str.replace(\"Set of \",\"\", regex=True)\n",
    "data.organ = data.organ.str.title()\n",
    "data.organ = data.organ.str.replace(\"In\",\"in\", regex=True)\n",
    "\n",
    "# Set revised values to categories\n",
    "data.organ = data.organ.astype(\"category\")\n",
    "data.organId = data.organId.astype(\"category\")\n",
    "data.reported_organ = data.reported_organ.astype(\"category\")\n",
    "data.consortium_name = data.consortium_name.astype(\"category\")\n",
    "data.dataset = data.dataset.astype(\"category\")\n",
    "data.modality = data.modality.astype(\"category\")\n",
    "data.cell_id = data.cell_id.astype(\"category\")\n",
    "data.cell_label = data.cell_label.astype(\"category\")"
   ]
  },
  {
   "cell_type": "markdown",
   "id": "41c71500-b2f5-4292-ae95-8183f1352415",
   "metadata": {
    "scrolled": true
   },
   "source": [
    "## Create Pivot tables using datasets and cell_ids.\n",
    "\n",
    "The first pivot table collects the measured cell type counts for each dataset. The second pivot table collects the percentage of cell types for each dataset. Both use the minimum aggregation function, as is only one measurement per cell type per data set."
   ]
  },
  {
   "cell_type": "code",
   "execution_count": 141,
   "id": "9557281c-1cf5-451f-90a1-544197e3f601",
   "metadata": {
    "scrolled": true
   },
   "outputs": [],
   "source": [
    "data_celltype = data.pivot_table(index='dataset',\n",
    "                                 columns='cell_id',\n",
    "                                 values='cell_count',\n",
    "                                 aggfunc='min',\n",
    "                                 fill_value='0',\n",
    "                                 observed=True,\n",
    "                                 margins=False)"
   ]
  },
  {
   "cell_type": "code",
   "execution_count": 142,
   "id": "ceee3c2c-4763-4b5e-bc41-cbbef3802880",
   "metadata": {
    "scrolled": true
   },
   "outputs": [],
   "source": [
    "data_cellperc = data.pivot_table(index='dataset',\n",
    "                                 columns='cell_id',\n",
    "                                 values='percentage',\n",
    "                                 aggfunc='min',\n",
    "                                 fill_value='0',\n",
    "                                 observed=True,\n",
    "                                 margins=False)"
   ]
  },
  {
   "cell_type": "code",
   "execution_count": 143,
   "id": "54ae1db0-a344-4d9e-a5da-56ce1b13fb45",
   "metadata": {},
   "outputs": [],
   "source": [
    "data_organs = data[['dataset','organ']].drop_duplicates()"
   ]
  },
  {
   "cell_type": "markdown",
   "id": "951d6ecc",
   "metadata": {},
   "source": [
    "## UMAP Analysis"
   ]
  },
  {
   "cell_type": "code",
   "execution_count": 144,
   "id": "40397ba6-6a27-4e3a-b9de-009cbd7e9c98",
   "metadata": {},
   "outputs": [],
   "source": [
    "scaled_data_celltype = StandardScaler().fit_transform(data_celltype)"
   ]
  },
  {
   "cell_type": "code",
   "execution_count": 145,
   "id": "506d00a0-74c8-4102-a0a4-516441f55ee1",
   "metadata": {},
   "outputs": [
    {
     "data": {
      "text/plain": [
       "(553, 2)"
      ]
     },
     "execution_count": 145,
     "metadata": {},
     "output_type": "execute_result"
    }
   ],
   "source": [
    "reducer = umap.UMAP()\n",
    "embedding = reducer.fit_transform(scaled_data_celltype)\n",
    "embedding.shape"
   ]
  },
  {
   "cell_type": "code",
   "execution_count": 146,
   "id": "df2be0c0-4c01-4b20-8e14-cdff02b381bf",
   "metadata": {},
   "outputs": [
    {
     "data": {
      "image/png": "[encoded data removed]",
      "text/plain": [
       "<Figure size 1400x1000 with 1 Axes>"
      ]
     },
     "metadata": {},
     "output_type": "display_data"
    }
   ],
   "source": [
    "plt.scatter(\n",
    "    embedding[:, 0],\n",
    "    embedding[:, 1],\n",
    "#    c=[sns.color_palette()[x] for x in data_organs.organ.map({\"Heart\":0, \"Kidney\":1, \"Lactiferous Glands in Breast\":2, \"Large intestine\":3,\n",
    "#                                                              \"Liver\":4, \"Male Reproductive System\":5, \"Mesenteric Lymph Node\":6, \"Respiratory System\":7,\n",
    "#                                                              \"Skin Of Body\":8, \"Small intestine\":9, \"Spleen\":10, \"Uterer\":11, \"Urinary Bladder\":12})]\n",
    ")\n",
    "plt.gca().set_aspect('equal', 'datalim')\n",
    "plt.title('UMAP projection of the HRA-Pop Cell Type dataset', fontsize=24);"
   ]
  },
  {
   "cell_type": "code",
   "execution_count": null,
   "id": "bf522daa-b236-49a4-8b85-ad6f431b1286",
   "metadata": {},
   "outputs": [],
   "source": []
  }
 ],
 "metadata": {
  "kernelspec": {
   "display_name": "Python 3 (ipykernel)",
   "language": "python",
   "name": "python3"
  },
  "language_info": {
   "codemirror_mode": {
    "name": "ipython",
    "version": 3
   },
   "file_extension": ".py",
   "mimetype": "text/x-python",
   "name": "python",
   "nbconvert_exporter": "python",
   "pygments_lexer": "ipython3",
   "version": "3.11.8"
  }
 },
 "nbformat": 4,
 "nbformat_minor": 5
}

{
 "cells": [
  {
   "cell_type": "markdown",
   "metadata": {},
   "source": [
    "# A notebook to to get true and predicted CTann and RUI for HRApop atlas datasets\n"
   ]
  },
  {
   "cell_type": "markdown",
   "metadata": {},
   "source": [
    "## Goal\n",
    "\n",
    "See [this GitHub issue](https://github.com/x-atlas-consortia/hra-pop/issues/100)\n"
   ]
  },
  {
   "cell_type": "markdown",
   "metadata": {},
   "source": [
    "## Import libraries\n"
   ]
  },
  {
   "cell_type": "code",
   "execution_count": 28,
   "metadata": {},
   "outputs": [],
   "source": [
    "import requests\n",
    "import pandas as pd\n",
    "import seaborn as sns\n",
    "import matplotlib.pyplot as plt\n",
    "import json\n",
    "from pprint import pprint\n",
    "from scipy.spatial.distance import cosine"
   ]
  },
  {
   "cell_type": "markdown",
   "metadata": {},
   "source": [
    "## Set global variables\n"
   ]
  },
  {
   "cell_type": "code",
   "execution_count": 3,
   "metadata": {},
   "outputs": [],
   "source": [
    "hra_pop_version = \"v0.10.3\""
   ]
  },
  {
   "cell_type": "markdown",
   "metadata": {},
   "source": [
    "## Load data\n"
   ]
  },
  {
   "cell_type": "code",
   "execution_count": 4,
   "metadata": {},
   "outputs": [],
   "source": [
    "df = pd.read_csv(\"data/validation-v7-ctann-rui.csv\")"
   ]
  },
  {
   "cell_type": "markdown",
   "metadata": {},
   "source": [
    "## Prepare data for visualization and visualize\n"
   ]
  },
  {
   "cell_type": "code",
   "execution_count": 5,
   "metadata": {},
   "outputs": [
    {
     "data": {
      "text/html": [
       "<div>\n",
       "<style scoped>\n",
       "    .dataframe tbody tr th:only-of-type {\n",
       "        vertical-align: middle;\n",
       "    }\n",
       "\n",
       "    .dataframe tbody tr th {\n",
       "        vertical-align: top;\n",
       "    }\n",
       "\n",
       "    .dataframe thead th {\n",
       "        text-align: right;\n",
       "    }\n",
       "</style>\n",
       "<table border=\"1\" class=\"dataframe\">\n",
       "  <thead>\n",
       "    <tr style=\"text-align: right;\">\n",
       "      <th></th>\n",
       "      <th>sex</th>\n",
       "      <th>sample</th>\n",
       "      <th>rui_location</th>\n",
       "      <th>dataset</th>\n",
       "      <th>tool</th>\n",
       "      <th>modality</th>\n",
       "      <th>organ</th>\n",
       "      <th>organId</th>\n",
       "      <th>datasetVsRuiSim</th>\n",
       "      <th>datasetVsTopPredictedRuiSim</th>\n",
       "      <th>ruiVsTopPredictedRuiSim</th>\n",
       "      <th>datasetVsTopPredictedDatasetSim</th>\n",
       "      <th>ruiVsTopPredictedDatasetSim</th>\n",
       "    </tr>\n",
       "  </thead>\n",
       "  <tbody>\n",
       "    <tr>\n",
       "      <th>0</th>\n",
       "      <td>Female</td>\n",
       "      <td>https://api.cellxgene.cziscience.com/dp/v1/col...</td>\n",
       "      <td>http://purl.org/ccf/1.5/9abfed4e-2fde-4d80-a8a...</td>\n",
       "      <td>https://api.cellxgene.cziscience.com/dp/v1/col...</td>\n",
       "      <td>azimuth</td>\n",
       "      <td>sc_transcriptomics</td>\n",
       "      <td>heart</td>\n",
       "      <td>UBERON:0000948</td>\n",
       "      <td>0.911356</td>\n",
       "      <td>0.917636</td>\n",
       "      <td>1.0</td>\n",
       "      <td>0.989803</td>\n",
       "      <td>0.983528</td>\n",
       "    </tr>\n",
       "    <tr>\n",
       "      <th>1</th>\n",
       "      <td>Female</td>\n",
       "      <td>https://api.cellxgene.cziscience.com/dp/v1/col...</td>\n",
       "      <td>http://purl.org/ccf/1.5/9abfed4e-2fde-4d80-a8a...</td>\n",
       "      <td>https://api.cellxgene.cziscience.com/dp/v1/col...</td>\n",
       "      <td>celltypist</td>\n",
       "      <td>sc_transcriptomics</td>\n",
       "      <td>heart</td>\n",
       "      <td>UBERON:0000948</td>\n",
       "      <td>0.701952</td>\n",
       "      <td>0.925033</td>\n",
       "      <td>1.0</td>\n",
       "      <td>0.992152</td>\n",
       "      <td>0.981170</td>\n",
       "    </tr>\n",
       "    <tr>\n",
       "      <th>2</th>\n",
       "      <td>Female</td>\n",
       "      <td>https://api.cellxgene.cziscience.com/dp/v1/col...</td>\n",
       "      <td>http://purl.org/ccf/1.5/9abfed4e-2fde-4d80-a8a...</td>\n",
       "      <td>https://api.cellxgene.cziscience.com/dp/v1/col...</td>\n",
       "      <td>popv</td>\n",
       "      <td>sc_transcriptomics</td>\n",
       "      <td>heart</td>\n",
       "      <td>UBERON:0000948</td>\n",
       "      <td>0.941554</td>\n",
       "      <td>0.971689</td>\n",
       "      <td>1.0</td>\n",
       "      <td>0.986041</td>\n",
       "      <td>0.988823</td>\n",
       "    </tr>\n",
       "    <tr>\n",
       "      <th>3</th>\n",
       "      <td>Female</td>\n",
       "      <td>https://api.cellxgene.cziscience.com/dp/v1/col...</td>\n",
       "      <td>http://purl.org/ccf/1.5/2156f837-2ab2-4305-8e7...</td>\n",
       "      <td>https://api.cellxgene.cziscience.com/dp/v1/col...</td>\n",
       "      <td>azimuth</td>\n",
       "      <td>sc_transcriptomics</td>\n",
       "      <td>heart</td>\n",
       "      <td>UBERON:0000948</td>\n",
       "      <td>0.933921</td>\n",
       "      <td>0.978646</td>\n",
       "      <td>1.0</td>\n",
       "      <td>0.997048</td>\n",
       "      <td>0.983528</td>\n",
       "    </tr>\n",
       "    <tr>\n",
       "      <th>4</th>\n",
       "      <td>Female</td>\n",
       "      <td>https://api.cellxgene.cziscience.com/dp/v1/col...</td>\n",
       "      <td>http://purl.org/ccf/1.5/2156f837-2ab2-4305-8e7...</td>\n",
       "      <td>https://api.cellxgene.cziscience.com/dp/v1/col...</td>\n",
       "      <td>celltypist</td>\n",
       "      <td>sc_transcriptomics</td>\n",
       "      <td>heart</td>\n",
       "      <td>UBERON:0000948</td>\n",
       "      <td>0.474365</td>\n",
       "      <td>0.916703</td>\n",
       "      <td>1.0</td>\n",
       "      <td>0.997618</td>\n",
       "      <td>0.981170</td>\n",
       "    </tr>\n",
       "    <tr>\n",
       "      <th>...</th>\n",
       "      <td>...</td>\n",
       "      <td>...</td>\n",
       "      <td>...</td>\n",
       "      <td>...</td>\n",
       "      <td>...</td>\n",
       "      <td>...</td>\n",
       "      <td>...</td>\n",
       "      <td>...</td>\n",
       "      <td>...</td>\n",
       "      <td>...</td>\n",
       "      <td>...</td>\n",
       "      <td>...</td>\n",
       "      <td>...</td>\n",
       "    </tr>\n",
       "    <tr>\n",
       "      <th>892</th>\n",
       "      <td>Male</td>\n",
       "      <td>https://entity.api.hubmapconsortium.org/entiti...</td>\n",
       "      <td>http://purl.org/ccf/1.5/e21afc3c-3a7c-4717-90d...</td>\n",
       "      <td>https://entity.api.hubmapconsortium.org/entiti...</td>\n",
       "      <td>popv</td>\n",
       "      <td>sc_transcriptomics</td>\n",
       "      <td>spleen</td>\n",
       "      <td>UBERON:0002106</td>\n",
       "      <td>0.744703</td>\n",
       "      <td>0.744706</td>\n",
       "      <td>1.0</td>\n",
       "      <td>0.993484</td>\n",
       "      <td>0.910879</td>\n",
       "    </tr>\n",
       "    <tr>\n",
       "      <th>893</th>\n",
       "      <td>Male</td>\n",
       "      <td>https://entity.api.hubmapconsortium.org/entiti...</td>\n",
       "      <td>http://purl.org/ccf/1.5/b2aca02c-9559-4869-b55...</td>\n",
       "      <td>https://entity.api.hubmapconsortium.org/entiti...</td>\n",
       "      <td>popv</td>\n",
       "      <td>sc_transcriptomics</td>\n",
       "      <td>urinary bladder</td>\n",
       "      <td>UBERON:0001255</td>\n",
       "      <td>1.000000</td>\n",
       "      <td>1.000000</td>\n",
       "      <td>1.0</td>\n",
       "      <td>0.998475</td>\n",
       "      <td>0.998475</td>\n",
       "    </tr>\n",
       "    <tr>\n",
       "      <th>894</th>\n",
       "      <td>Male</td>\n",
       "      <td>https://entity.api.hubmapconsortium.org/entiti...</td>\n",
       "      <td>http://purl.org/ccf/1.5/e43280c9-840b-481f-a8a...</td>\n",
       "      <td>https://entity.api.hubmapconsortium.org/entiti...</td>\n",
       "      <td>popv</td>\n",
       "      <td>sc_transcriptomics</td>\n",
       "      <td>urinary bladder</td>\n",
       "      <td>UBERON:0001255</td>\n",
       "      <td>0.998475</td>\n",
       "      <td>0.998475</td>\n",
       "      <td>1.0</td>\n",
       "      <td>0.998733</td>\n",
       "      <td>1.000000</td>\n",
       "    </tr>\n",
       "    <tr>\n",
       "      <th>895</th>\n",
       "      <td>Male</td>\n",
       "      <td>https://entity.api.hubmapconsortium.org/entiti...</td>\n",
       "      <td>http://purl.org/ccf/1.5/fb6bb0ea-5ba7-44e2-90a...</td>\n",
       "      <td>https://entity.api.hubmapconsortium.org/entiti...</td>\n",
       "      <td>popv</td>\n",
       "      <td>sc_transcriptomics</td>\n",
       "      <td>urinary bladder</td>\n",
       "      <td>UBERON:0001255</td>\n",
       "      <td>0.913469</td>\n",
       "      <td>0.913469</td>\n",
       "      <td>1.0</td>\n",
       "      <td>0.985884</td>\n",
       "      <td>1.000000</td>\n",
       "    </tr>\n",
       "    <tr>\n",
       "      <th>896</th>\n",
       "      <td>Male</td>\n",
       "      <td>https://entity.api.hubmapconsortium.org/entiti...</td>\n",
       "      <td>http://purl.org/ccf/1.5/cc08d64c-5d75-4995-b3b...</td>\n",
       "      <td>https://entity.api.hubmapconsortium.org/entiti...</td>\n",
       "      <td>popv</td>\n",
       "      <td>sc_transcriptomics</td>\n",
       "      <td>urinary bladder</td>\n",
       "      <td>UBERON:0001255</td>\n",
       "      <td>0.966213</td>\n",
       "      <td>0.966213</td>\n",
       "      <td>1.0</td>\n",
       "      <td>0.987198</td>\n",
       "      <td>1.000000</td>\n",
       "    </tr>\n",
       "  </tbody>\n",
       "</table>\n",
       "<p>897 rows × 13 columns</p>\n",
       "</div>"
      ],
      "text/plain": [
       "        sex                                             sample  \\\n",
       "0    Female  https://api.cellxgene.cziscience.com/dp/v1/col...   \n",
       "1    Female  https://api.cellxgene.cziscience.com/dp/v1/col...   \n",
       "2    Female  https://api.cellxgene.cziscience.com/dp/v1/col...   \n",
       "3    Female  https://api.cellxgene.cziscience.com/dp/v1/col...   \n",
       "4    Female  https://api.cellxgene.cziscience.com/dp/v1/col...   \n",
       "..      ...                                                ...   \n",
       "892    Male  https://entity.api.hubmapconsortium.org/entiti...   \n",
       "893    Male  https://entity.api.hubmapconsortium.org/entiti...   \n",
       "894    Male  https://entity.api.hubmapconsortium.org/entiti...   \n",
       "895    Male  https://entity.api.hubmapconsortium.org/entiti...   \n",
       "896    Male  https://entity.api.hubmapconsortium.org/entiti...   \n",
       "\n",
       "                                          rui_location  \\\n",
       "0    http://purl.org/ccf/1.5/9abfed4e-2fde-4d80-a8a...   \n",
       "1    http://purl.org/ccf/1.5/9abfed4e-2fde-4d80-a8a...   \n",
       "2    http://purl.org/ccf/1.5/9abfed4e-2fde-4d80-a8a...   \n",
       "3    http://purl.org/ccf/1.5/2156f837-2ab2-4305-8e7...   \n",
       "4    http://purl.org/ccf/1.5/2156f837-2ab2-4305-8e7...   \n",
       "..                                                 ...   \n",
       "892  http://purl.org/ccf/1.5/e21afc3c-3a7c-4717-90d...   \n",
       "893  http://purl.org/ccf/1.5/b2aca02c-9559-4869-b55...   \n",
       "894  http://purl.org/ccf/1.5/e43280c9-840b-481f-a8a...   \n",
       "895  http://purl.org/ccf/1.5/fb6bb0ea-5ba7-44e2-90a...   \n",
       "896  http://purl.org/ccf/1.5/cc08d64c-5d75-4995-b3b...   \n",
       "\n",
       "                                               dataset        tool  \\\n",
       "0    https://api.cellxgene.cziscience.com/dp/v1/col...     azimuth   \n",
       "1    https://api.cellxgene.cziscience.com/dp/v1/col...  celltypist   \n",
       "2    https://api.cellxgene.cziscience.com/dp/v1/col...        popv   \n",
       "3    https://api.cellxgene.cziscience.com/dp/v1/col...     azimuth   \n",
       "4    https://api.cellxgene.cziscience.com/dp/v1/col...  celltypist   \n",
       "..                                                 ...         ...   \n",
       "892  https://entity.api.hubmapconsortium.org/entiti...        popv   \n",
       "893  https://entity.api.hubmapconsortium.org/entiti...        popv   \n",
       "894  https://entity.api.hubmapconsortium.org/entiti...        popv   \n",
       "895  https://entity.api.hubmapconsortium.org/entiti...        popv   \n",
       "896  https://entity.api.hubmapconsortium.org/entiti...        popv   \n",
       "\n",
       "               modality            organ         organId  datasetVsRuiSim  \\\n",
       "0    sc_transcriptomics            heart  UBERON:0000948         0.911356   \n",
       "1    sc_transcriptomics            heart  UBERON:0000948         0.701952   \n",
       "2    sc_transcriptomics            heart  UBERON:0000948         0.941554   \n",
       "3    sc_transcriptomics            heart  UBERON:0000948         0.933921   \n",
       "4    sc_transcriptomics            heart  UBERON:0000948         0.474365   \n",
       "..                  ...              ...             ...              ...   \n",
       "892  sc_transcriptomics           spleen  UBERON:0002106         0.744703   \n",
       "893  sc_transcriptomics  urinary bladder  UBERON:0001255         1.000000   \n",
       "894  sc_transcriptomics  urinary bladder  UBERON:0001255         0.998475   \n",
       "895  sc_transcriptomics  urinary bladder  UBERON:0001255         0.913469   \n",
       "896  sc_transcriptomics  urinary bladder  UBERON:0001255         0.966213   \n",
       "\n",
       "     datasetVsTopPredictedRuiSim  ruiVsTopPredictedRuiSim  \\\n",
       "0                       0.917636                      1.0   \n",
       "1                       0.925033                      1.0   \n",
       "2                       0.971689                      1.0   \n",
       "3                       0.978646                      1.0   \n",
       "4                       0.916703                      1.0   \n",
       "..                           ...                      ...   \n",
       "892                     0.744706                      1.0   \n",
       "893                     1.000000                      1.0   \n",
       "894                     0.998475                      1.0   \n",
       "895                     0.913469                      1.0   \n",
       "896                     0.966213                      1.0   \n",
       "\n",
       "     datasetVsTopPredictedDatasetSim  ruiVsTopPredictedDatasetSim  \n",
       "0                           0.989803                     0.983528  \n",
       "1                           0.992152                     0.981170  \n",
       "2                           0.986041                     0.988823  \n",
       "3                           0.997048                     0.983528  \n",
       "4                           0.997618                     0.981170  \n",
       "..                               ...                          ...  \n",
       "892                         0.993484                     0.910879  \n",
       "893                         0.998475                     0.998475  \n",
       "894                         0.998733                     1.000000  \n",
       "895                         0.985884                     1.000000  \n",
       "896                         0.987198                     1.000000  \n",
       "\n",
       "[897 rows x 13 columns]"
      ]
     },
     "execution_count": 5,
     "metadata": {},
     "output_type": "execute_result"
    }
   ],
   "source": [
    "df"
   ]
  },
  {
   "cell_type": "markdown",
   "metadata": {},
   "source": [
    "## Compute similarity scores for %AS\n"
   ]
  },
  {
   "cell_type": "markdown",
   "metadata": {},
   "source": [
    "### Load atlas enriched dataset graph\n"
   ]
  },
  {
   "cell_type": "code",
   "execution_count": 6,
   "metadata": {},
   "outputs": [],
   "source": [
    "ds_graph_path = f\"../../../hra-pop/output-data/{\n",
    "    hra_pop_version}/atlas-enriched-dataset-graph.jsonld\"\n",
    "\n",
    "with open(ds_graph_path) as f:\n",
    "    graph = json.load(f)\n",
    "    # pprint(d)"
   ]
  },
  {
   "cell_type": "markdown",
   "metadata": {},
   "source": [
    "### Define functions\n"
   ]
  },
  {
   "cell_type": "code",
   "execution_count": 19,
   "metadata": {},
   "outputs": [],
   "source": [
    "# take 2 extraction sites, get their AS collisions from atlas enriched dataset graph, then compute cosine sim\n",
    "def compare_as_collision_volumes(iri_1: dict, iri_2: dict):\n",
    "    \"\"\"A function that takes two IRIs for extraction sites, gets AS collision volumes, then returns a cosine similarity\n",
    "\n",
    "    Args:\n",
    "        iri_1 (str): a dictionary with AS tag and intersection percentage of the extraction site\n",
    "        iri_2 (str): a dictionary with AS tag and intersection percentage of the extraction site\n",
    "    \"\"\"\n",
    "\n",
    "    pass\n",
    "\n",
    "\n",
    "def get_as_collision_items(iri: str):\n",
    "    \"\"\"A function to get AS collision items for an IRI (extraction site) and return a dictionary with AS UBERON ID and intersection percentage of the extraction site\n",
    "\n",
    "    Args:\n",
    "        iri (str): an IRI for an extraction site\n",
    "    \n",
    "    Returns:\n",
    "        a dictionary with the IRI and a nested dictionary with collisions (ID and percentage) \n",
    "    \"\"\"\n",
    "    \n",
    "    result = {\n",
    "\t'iri': iri,\n",
    "        'collisions': {}\n",
    "    }\n",
    "\n",
    "    # loop through ds graph\n",
    "    for donor in graph['@graph']:\n",
    "        for sample in donor['samples']:\n",
    "            current = sample['rui_location']\n",
    "            if current['@id'] == iri:\n",
    "                for collision_summary in current['all_collisions']:\n",
    "                    for item in collision_summary['collisions']:\n",
    "                        result['collisions'][item['as_id']] = item['percentage']\n",
    "\n",
    "    return result"
   ]
  },
  {
   "cell_type": "markdown",
   "metadata": {},
   "source": [
    "### Loop through pairs of extraction sites (true and predicted) in validation and compute AS% similarity score\n"
   ]
  },
  {
   "cell_type": "code",
   "execution_count": 34,
   "metadata": {},
   "outputs": [
    {
     "name": "stdout",
     "output_type": "stream",
     "text": [
      "{'collisions': {'http://purl.obolibrary.org/obo/UBERON_0002084': 0.807},\n",
      " 'iri': 'http://purl.org/ccf/1.5/9abfed4e-2fde-4d80-a8aa-7439a106d895'}\n",
      "{'collisions': {'http://purl.obolibrary.org/obo/UBERON_0002084': 0.914},\n",
      " 'iri': 'http://purl.org/ccf/1.5/2156f837-2ab2-4305-8e7f-8084249e91cd'}\n",
      "Cosine Similarity: 0.8011927448021526\n"
     ]
    }
   ],
   "source": [
    "iri_1 = \"http://purl.org/ccf/1.5/9abfed4e-2fde-4d80-a8aa-7439a106d895\"\n",
    "iri_2 = \"http://purl.org/ccf/1.5/2156f837-2ab2-4305-8e7f-8084249e91cd\"\n",
    "\n",
    "\n",
    "dict1 = get_as_collision_items(iri_1)\n",
    "dict2 = get_as_collision_items(iri_2)\n",
    "\n",
    "pprint(dict1)\n",
    "pprint(dict2)\n",
    "\n",
    "shared_keys = set(dict1['collisions'].keys()).intersection(dict2['collisions'].keys())\n",
    "shared_keys\n",
    "\n",
    "# Example vectors\n",
    "vec1 = [3, 4, 2]\n",
    "vec2 = [4, 1, 3]\n",
    "\n",
    "# Compute cosine similarity\n",
    "cosine_similarity = 1 - cosine(vec1, vec2)\n",
    "print(f\"Cosine Similarity: {cosine_similarity}\")"
   ]
  },
  {
   "cell_type": "markdown",
   "metadata": {},
   "source": [
    "## Visualize\n"
   ]
  },
  {
   "cell_type": "code",
   "execution_count": 9,
   "metadata": {},
   "outputs": [
    {
     "data": {
      "image/png": "[encoded data removed]",
      "text/plain": [
       "<Figure size 2208.25x500 with 4 Axes>"
      ]
     },
     "metadata": {},
     "output_type": "display_data"
    }
   ],
   "source": [
    "# Create a custom color palette\n",
    "custom_palette = sns.color_palette(\"Set1\")\n",
    "\n",
    "# Create FacetGrid\n",
    "g = sns.FacetGrid(\n",
    "    df, col=\"tool\", hue=\"organ\", palette=custom_palette, height=5, aspect=1\n",
    ")\n",
    "\n",
    "# Set the style of the plot\n",
    "# Options: \"white\", \"dark\", \"whitegrid\", \"darkgrid\", \"ticks\"\n",
    "sns.set_style(\"whitegrid\")\n",
    "\n",
    "# Create a scatter plot\n",
    "g.map(sns.scatterplot, \"datasetVsRuiSim\", \"ruiVsTopPredictedRuiSim\")\n",
    "\n",
    "# Add a legend\n",
    "g.add_legend()\n",
    "# Show the plot\n",
    "plt.show()"
   ]
  },
  {
   "cell_type": "markdown",
   "metadata": {},
   "source": [
    "## Data dictionary\n"
   ]
  },
  {
   "cell_type": "markdown",
   "metadata": {},
   "source": [
    "| Axis | Variable                                                  | Explanation                                                                                                                                 |\n",
    "| ---- | --------------------------------------------------------- | ------------------------------------------------------------------------------------------------------------------------------------------- |\n",
    "| x    | datasetVsRuiSim                                           | CTann (x axis) Cosine sim between TRUE cell summary of input dataset and PREDICTED cell summary of input RUI location (as computed by US 1) |\n",
    "| y    | ruiVsPredictedRuiSim (with Andi's added compared AS tags) |                                                                                                                                             |\n"
   ]
  }
 ],
 "metadata": {
  "kernelspec": {
   "display_name": ".venv",
   "language": "python",
   "name": "python3"
  },
  "language_info": {
   "codemirror_mode": {
    "name": "ipython",
    "version": 3
   },
   "file_extension": ".py",
   "mimetype": "text/x-python",
   "name": "python",
   "nbconvert_exporter": "python",
   "pygments_lexer": "ipython3",
   "version": "3.12.4"
  }
 },
 "nbformat": 4,
 "nbformat_minor": 2
}

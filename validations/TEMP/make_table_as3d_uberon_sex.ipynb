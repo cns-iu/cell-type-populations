{
 "cells": [
  {
   "cell_type": "markdown",
   "metadata": {},
   "source": [
    "# A noptebook to get a table with AS3D, UBERON ID, and Sex"
   ]
  },
  {
   "cell_type": "markdown",
   "metadata": {},
   "source": [
    "# Import libraries"
   ]
  },
  {
   "cell_type": "code",
   "execution_count": 49,
   "metadata": {},
   "outputs": [],
   "source": [
    "import requests\n",
    "import pandas as pd\n",
    "from io import StringIO"
   ]
  },
  {
   "cell_type": "markdown",
   "metadata": {},
   "source": [
    "# Write SPARQL query and make request"
   ]
  },
  {
   "cell_type": "code",
   "execution_count": 50,
   "metadata": {},
   "outputs": [
    {
     "name": "stdout",
     "output_type": "stream",
     "text": [
      "                                               as_label       uberon_id  \\\n",
      "0     Spatial entity of female abdominal ostium of u...       FMA:77049   \n",
      "1      Spatial entity of female anterior wall of uterus      FMA:224876   \n",
      "2               Spatial entity of female body of uterus  UBERON:0009853   \n",
      "3                       Spatial entity of female cervix  UBERON:0000002   \n",
      "4         Spatial entity of female external cervical os  UBERON:0013760   \n",
      "...                                                 ...             ...   \n",
      "1168         Spatial entity of male postcentral gyrus L  UBERON:0002581   \n",
      "1169         Spatial entity of male postcentral gyrus R  UBERON:0002581   \n",
      "1170  Spatial entity of male posterior intermediate ...  UBERON:0002644   \n",
      "1171  Spatial entity of male posterior intermediate ...  UBERON:0002644   \n",
      "1172  Spatial entity of male posterior parahippocamp...  UBERON:0002657   \n",
      "\n",
      "         sex                                          ref_organ  \n",
      "0     Female  https://purl.humanatlas.io/ref-organ/uterus-fe...  \n",
      "1     Female  https://purl.humanatlas.io/ref-organ/uterus-fe...  \n",
      "2     Female  https://purl.humanatlas.io/ref-organ/uterus-fe...  \n",
      "3     Female  https://purl.humanatlas.io/ref-organ/uterus-fe...  \n",
      "4     Female  https://purl.humanatlas.io/ref-organ/uterus-fe...  \n",
      "...      ...                                                ...  \n",
      "1168    Male  https://purl.humanatlas.io/ref-organ/brain-mal...  \n",
      "1169    Male  https://purl.humanatlas.io/ref-organ/brain-mal...  \n",
      "1170    Male  https://purl.humanatlas.io/ref-organ/brain-mal...  \n",
      "1171    Male  https://purl.humanatlas.io/ref-organ/brain-mal...  \n",
      "1172    Male  https://purl.humanatlas.io/ref-organ/brain-mal...  \n",
      "\n",
      "[1173 rows x 4 columns]\n"
     ]
    }
   ],
   "source": [
    "query = '''PREFIX ccf: <http://purl.org/ccf/>\n",
    "PREFIX HRA: <https://purl.humanatlas.io/collection/hra>\n",
    "PREFIX rdfs: <http://www.w3.org/2000/01/rdf-schema#> \n",
    "PREFIX UBERON: <http://purl.obolibrary.org/obo/UBERON_>\n",
    "PREFIX FMA: <http://purl.org/sig/ont/fma/fma>\n",
    "\n",
    "SELECT DISTINCT ?as_label ?uberon_id ?sex ?ref_organ\n",
    "FROM HRA:\n",
    "FROM ccf:\n",
    "WHERE {\n",
    "  ?as_3d ccf:has_reference_organ ?ref_organ ;\n",
    "\t\trdfs:label ?as_label_long ;\n",
    "\t\tccf:organ_owner_sex ?sex;\n",
    "\t\tccf:representation_of ?as_id .\n",
    "\t\n",
    "\t# ?x ccf:ccf_pref_label ?organ_label ;\n",
    "\t#  ?ref_organ ccf:representation_of ?organIri .\n",
    "\t#  ?organ_iri ccf:ccf_pref_label ?organ_label .\n",
    "\n",
    "  FILTER(!CONTAINS(STR(?ref_organ), '/united-'))\n",
    "  FILTER (str(?as_3d) != str(?ref_organ))\n",
    "\tBIND(REPLACE(REPLACE(STR(?as_id), STR(UBERON:), 'UBERON:'), STR(FMA:), 'FMA:') as ?uberon_id)\n",
    "\tBIND(REPLACE(STR(?as_label_long), STR(\"Spatial entity of \"), '') as ?as_label)\n",
    "}\n",
    "'''\n",
    "\n",
    "# set endpoint\n",
    "sparql_endpoint = \"http://lod.humanatlas.io/sparql\"\n",
    "\n",
    "# Set up the parameters for the request\n",
    "params = {\n",
    "    \"query\": query,\n",
    "}\n",
    "\n",
    "headers = {\n",
    "    \"Accept\": \"text/csv\",\n",
    "    # \"Content-Type\": \"application/x-www-form-urlencoded\"\n",
    "}\n",
    "\n",
    "# Send the request to the SPARQL endpoint\n",
    "response = requests.get(sparql_endpoint, params=params, headers=headers)\n",
    "\n",
    "# Check if the request was successful\n",
    "if response.status_code == 200:\n",
    "    # Read the CSV response into a pandas DataFrame\n",
    "    csv_data = StringIO(response.text)\n",
    "    df = pd.read_csv(csv_data)\n",
    "    # Print the DataFrame\n",
    "    print(df)\n",
    "else:\n",
    "    print(f\"Error: {response.status_code}\")\n",
    "    print(response.text)"
   ]
  },
  {
   "cell_type": "markdown",
   "metadata": {},
   "source": [
    "# Export result to CSV"
   ]
  },
  {
   "cell_type": "code",
   "execution_count": 53,
   "metadata": {},
   "outputs": [],
   "source": [
    "df.to_csv(\"output/as3d_uberon_sex.csv\", index=False)"
   ]
  }
 ],
 "metadata": {
  "kernelspec": {
   "display_name": ".venv",
   "language": "python",
   "name": "python3"
  },
  "language_info": {
   "codemirror_mode": {
    "name": "ipython",
    "version": 3
   },
   "file_extension": ".py",
   "mimetype": "text/x-python",
   "name": "python",
   "nbconvert_exporter": "python",
   "pygments_lexer": "ipython3",
   "version": "3.12.4"
  }
 },
 "nbformat": 4,
 "nbformat_minor": 2
}

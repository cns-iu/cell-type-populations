{
 "cells": [
  {
   "cell_type": "markdown",
   "metadata": {},
   "source": [
    "# A notebook to compare volumes of corridors and anatomical structures"
   ]
  },
  {
   "cell_type": "markdown",
   "metadata": {},
   "source": [
    "# Import statements"
   ]
  },
  {
   "cell_type": "code",
   "execution_count": 75,
   "metadata": {},
   "outputs": [],
   "source": [
    "import matplotlib.pyplot as plt\n",
    "import seaborn as sns\n",
    "import pandas as pd\n",
    "import numpy as np"
   ]
  },
  {
   "cell_type": "markdown",
   "metadata": {},
   "source": [
    "# Load corridor and AS volumes"
   ]
  },
  {
   "cell_type": "code",
   "execution_count": 76,
   "metadata": {},
   "outputs": [],
   "source": [
    "corridor_volumes = pd.read_csv(\"output/corridor_volumes.csv\")\n",
    "corridor_volumes\n",
    "\n",
    "table_s5 = pd.read_csv(\"../../../hra-pop/output-data/v0.10.2/reports/atlas/table-s5.csv\")"
   ]
  },
  {
   "cell_type": "markdown",
   "metadata": {},
   "source": [
    "# Wrangle the incoming data"
   ]
  },
  {
   "cell_type": "code",
   "execution_count": 77,
   "metadata": {},
   "outputs": [
    {
     "name": "stderr",
     "output_type": "stream",
     "text": [
      "C:\\Users\\abueckle\\AppData\\Local\\Temp\\2\\ipykernel_47604\\524204538.py:6: SettingWithCopyWarning: \n",
      "A value is trying to be set on a copy of a slice from a DataFrame.\n",
      "Try using .loc[row_indexer,col_indexer] = value instead\n",
      "\n",
      "See the caveats in the documentation: https://pandas.pydata.org/pandas-docs/stable/user_guide/indexing.html#returning-a-view-versus-a-copy\n",
      "  as_rearranged['label'] = as_rearranged['organ'] + \\\n",
      "C:\\Users\\abueckle\\AppData\\Local\\Temp\\2\\ipykernel_47604\\524204538.py:8: SettingWithCopyWarning: \n",
      "A value is trying to be set on a copy of a slice from a DataFrame.\n",
      "Try using .loc[row_indexer,col_indexer] = value instead\n",
      "\n",
      "See the caveats in the documentation: https://pandas.pydata.org/pandas-docs/stable/user_guide/indexing.html#returning-a-view-versus-a-copy\n",
      "  as_rearranged['volume_mm^3'] = as_rearranged['as_volume']\n"
     ]
    },
    {
     "data": {
      "text/html": [
       "<div>\n",
       "<style scoped>\n",
       "    .dataframe tbody tr th:only-of-type {\n",
       "        vertical-align: middle;\n",
       "    }\n",
       "\n",
       "    .dataframe tbody tr th {\n",
       "        vertical-align: top;\n",
       "    }\n",
       "\n",
       "    .dataframe thead th {\n",
       "        text-align: right;\n",
       "    }\n",
       "</style>\n",
       "<table border=\"1\" class=\"dataframe\">\n",
       "  <thead>\n",
       "    <tr style=\"text-align: right;\">\n",
       "      <th></th>\n",
       "      <th>type</th>\n",
       "      <th>label</th>\n",
       "      <th>volume_m^3</th>\n",
       "      <th>volume_mm^3</th>\n",
       "    </tr>\n",
       "  </thead>\n",
       "  <tbody>\n",
       "    <tr>\n",
       "      <th>0</th>\n",
       "      <td>anatomical structure</td>\n",
       "      <td>VHFHeart__{interventricular septum}</td>\n",
       "      <td>6.589453e+13</td>\n",
       "      <td>65894.534659</td>\n",
       "    </tr>\n",
       "    <tr>\n",
       "      <th>1</th>\n",
       "      <td>anatomical structure</td>\n",
       "      <td>VHFHeart__{heart right ventricle}</td>\n",
       "      <td>7.871476e+13</td>\n",
       "      <td>78714.755725</td>\n",
       "    </tr>\n",
       "    <tr>\n",
       "      <th>2</th>\n",
       "      <td>anatomical structure</td>\n",
       "      <td>VHFHeart__{Posteromedial head of posterior pap...</td>\n",
       "      <td>4.401499e+12</td>\n",
       "      <td>4401.498768</td>\n",
       "    </tr>\n",
       "    <tr>\n",
       "      <th>3</th>\n",
       "      <td>anatomical structure</td>\n",
       "      <td>VHFHeart__{heart left ventricle}</td>\n",
       "      <td>2.293128e+14</td>\n",
       "      <td>229312.780188</td>\n",
       "    </tr>\n",
       "    <tr>\n",
       "      <th>4</th>\n",
       "      <td>anatomical structure</td>\n",
       "      <td>VHMHeart__{heart left ventricle}</td>\n",
       "      <td>1.216042e+14</td>\n",
       "      <td>121604.207027</td>\n",
       "    </tr>\n",
       "    <tr>\n",
       "      <th>...</th>\n",
       "      <td>...</td>\n",
       "      <td>...</td>\n",
       "      <td>...</td>\n",
       "      <td>...</td>\n",
       "    </tr>\n",
       "    <tr>\n",
       "      <th>238</th>\n",
       "      <td>anatomical structure</td>\n",
       "      <td>VHFLargeIntestine__{sigmoid colon}</td>\n",
       "      <td>3.034371e+13</td>\n",
       "      <td>30343.709589</td>\n",
       "    </tr>\n",
       "    <tr>\n",
       "      <th>239</th>\n",
       "      <td>anatomical structure</td>\n",
       "      <td>VHFLargeIntestine__{sigmoid colon}</td>\n",
       "      <td>3.034371e+13</td>\n",
       "      <td>30343.709589</td>\n",
       "    </tr>\n",
       "    <tr>\n",
       "      <th>240</th>\n",
       "      <td>anatomical structure</td>\n",
       "      <td>VHMLeftUreter__{left ureter}</td>\n",
       "      <td>1.685800e+12</td>\n",
       "      <td>1685.799762</td>\n",
       "    </tr>\n",
       "    <tr>\n",
       "      <th>241</th>\n",
       "      <td>anatomical structure</td>\n",
       "      <td>VHMUrinaryBladder__{fundus of urinary bladder}</td>\n",
       "      <td>2.415220e+12</td>\n",
       "      <td>2415.219825</td>\n",
       "    </tr>\n",
       "    <tr>\n",
       "      <th>242</th>\n",
       "      <td>anatomical structure</td>\n",
       "      <td>VHMLeftUreter__{left ureter}</td>\n",
       "      <td>1.685800e+12</td>\n",
       "      <td>1685.799762</td>\n",
       "    </tr>\n",
       "  </tbody>\n",
       "</table>\n",
       "<p>243 rows × 4 columns</p>\n",
       "</div>"
      ],
      "text/plain": [
       "                     type                                              label  \\\n",
       "0    anatomical structure                VHFHeart__{interventricular septum}   \n",
       "1    anatomical structure                  VHFHeart__{heart right ventricle}   \n",
       "2    anatomical structure  VHFHeart__{Posteromedial head of posterior pap...   \n",
       "3    anatomical structure                   VHFHeart__{heart left ventricle}   \n",
       "4    anatomical structure                   VHMHeart__{heart left ventricle}   \n",
       "..                    ...                                                ...   \n",
       "238  anatomical structure                 VHFLargeIntestine__{sigmoid colon}   \n",
       "239  anatomical structure                 VHFLargeIntestine__{sigmoid colon}   \n",
       "240  anatomical structure                       VHMLeftUreter__{left ureter}   \n",
       "241  anatomical structure     VHMUrinaryBladder__{fundus of urinary bladder}   \n",
       "242  anatomical structure                       VHMLeftUreter__{left ureter}   \n",
       "\n",
       "       volume_m^3    volume_mm^3  \n",
       "0    6.589453e+13   65894.534659  \n",
       "1    7.871476e+13   78714.755725  \n",
       "2    4.401499e+12    4401.498768  \n",
       "3    2.293128e+14  229312.780188  \n",
       "4    1.216042e+14  121604.207027  \n",
       "..            ...            ...  \n",
       "238  3.034371e+13   30343.709589  \n",
       "239  3.034371e+13   30343.709589  \n",
       "240  1.685800e+12    1685.799762  \n",
       "241  2.415220e+12    2415.219825  \n",
       "242  1.685800e+12    1685.799762  \n",
       "\n",
       "[243 rows x 4 columns]"
      ]
     },
     "execution_count": 77,
     "metadata": {},
     "output_type": "execute_result"
    }
   ],
   "source": [
    "# set scaling factor so we can convert from cubic millimeters to cubic meters\n",
    "scaling_factor = 1e9\n",
    "\n",
    "# create new column with AS label and organ as prefix\n",
    "as_rearranged = table_s5[[\"organ\", \"as_label\", \"as_volume\"]]\n",
    "as_rearranged['label'] = as_rearranged['organ'] + \\\n",
    "    '__{' + as_rearranged['as_label'].astype(str)+\"}\"\n",
    "as_rearranged['volume_mm^3'] = as_rearranged['as_volume']\n",
    "\n",
    "# create new columns not present in original report \n",
    "as_rearranged.insert(loc=0, column='type', value=\"anatomical structure\")\n",
    "as_rearranged.insert(loc=2, column='volume_m^3',\n",
    "                     value=as_rearranged['volume_mm^3'] * scaling_factor)\n",
    "\n",
    "# select the columns we want (so that they match what we have for the corridors\n",
    "as_volumes = as_rearranged[['type', 'label', 'volume_m^3', 'volume_mm^3']]\n",
    "as_volumes"
   ]
  },
  {
   "cell_type": "markdown",
   "metadata": {},
   "source": [
    "# Concatenate DataFrames"
   ]
  },
  {
   "cell_type": "code",
   "execution_count": 78,
   "metadata": {},
   "outputs": [
    {
     "data": {
      "text/html": [
       "<div>\n",
       "<style scoped>\n",
       "    .dataframe tbody tr th:only-of-type {\n",
       "        vertical-align: middle;\n",
       "    }\n",
       "\n",
       "    .dataframe tbody tr th {\n",
       "        vertical-align: top;\n",
       "    }\n",
       "\n",
       "    .dataframe thead th {\n",
       "        text-align: right;\n",
       "    }\n",
       "</style>\n",
       "<table border=\"1\" class=\"dataframe\">\n",
       "  <thead>\n",
       "    <tr style=\"text-align: right;\">\n",
       "      <th></th>\n",
       "      <th>type</th>\n",
       "      <th>label</th>\n",
       "      <th>volume_m^3</th>\n",
       "      <th>volume_mm^3</th>\n",
       "    </tr>\n",
       "  </thead>\n",
       "  <tbody>\n",
       "    <tr>\n",
       "      <th>0</th>\n",
       "      <td>corridor</td>\n",
       "      <td>corridor</td>\n",
       "      <td>9.850908e-02</td>\n",
       "      <td>9.850908e+07</td>\n",
       "    </tr>\n",
       "    <tr>\n",
       "      <th>1</th>\n",
       "      <td>corridor</td>\n",
       "      <td>corridor.001</td>\n",
       "      <td>1.716722e-04</td>\n",
       "      <td>1.716722e+05</td>\n",
       "    </tr>\n",
       "    <tr>\n",
       "      <th>2</th>\n",
       "      <td>corridor</td>\n",
       "      <td>corridor.002</td>\n",
       "      <td>2.330238e-05</td>\n",
       "      <td>2.330238e+04</td>\n",
       "    </tr>\n",
       "    <tr>\n",
       "      <th>3</th>\n",
       "      <td>corridor</td>\n",
       "      <td>corridor.003</td>\n",
       "      <td>3.914832e-05</td>\n",
       "      <td>3.914832e+04</td>\n",
       "    </tr>\n",
       "    <tr>\n",
       "      <th>4</th>\n",
       "      <td>corridor</td>\n",
       "      <td>corridor.004</td>\n",
       "      <td>8.011831e-05</td>\n",
       "      <td>8.011831e+04</td>\n",
       "    </tr>\n",
       "    <tr>\n",
       "      <th>...</th>\n",
       "      <td>...</td>\n",
       "      <td>...</td>\n",
       "      <td>...</td>\n",
       "      <td>...</td>\n",
       "    </tr>\n",
       "    <tr>\n",
       "      <th>238</th>\n",
       "      <td>anatomical structure</td>\n",
       "      <td>VHFLargeIntestine__{sigmoid colon}</td>\n",
       "      <td>3.034371e+13</td>\n",
       "      <td>3.034371e+04</td>\n",
       "    </tr>\n",
       "    <tr>\n",
       "      <th>239</th>\n",
       "      <td>anatomical structure</td>\n",
       "      <td>VHFLargeIntestine__{sigmoid colon}</td>\n",
       "      <td>3.034371e+13</td>\n",
       "      <td>3.034371e+04</td>\n",
       "    </tr>\n",
       "    <tr>\n",
       "      <th>240</th>\n",
       "      <td>anatomical structure</td>\n",
       "      <td>VHMLeftUreter__{left ureter}</td>\n",
       "      <td>1.685800e+12</td>\n",
       "      <td>1.685800e+03</td>\n",
       "    </tr>\n",
       "    <tr>\n",
       "      <th>241</th>\n",
       "      <td>anatomical structure</td>\n",
       "      <td>VHMUrinaryBladder__{fundus of urinary bladder}</td>\n",
       "      <td>2.415220e+12</td>\n",
       "      <td>2.415220e+03</td>\n",
       "    </tr>\n",
       "    <tr>\n",
       "      <th>242</th>\n",
       "      <td>anatomical structure</td>\n",
       "      <td>VHMLeftUreter__{left ureter}</td>\n",
       "      <td>1.685800e+12</td>\n",
       "      <td>1.685800e+03</td>\n",
       "    </tr>\n",
       "  </tbody>\n",
       "</table>\n",
       "<p>738 rows × 4 columns</p>\n",
       "</div>"
      ],
      "text/plain": [
       "                     type                                           label  \\\n",
       "0                corridor                                        corridor   \n",
       "1                corridor                                    corridor.001   \n",
       "2                corridor                                    corridor.002   \n",
       "3                corridor                                    corridor.003   \n",
       "4                corridor                                    corridor.004   \n",
       "..                    ...                                             ...   \n",
       "238  anatomical structure              VHFLargeIntestine__{sigmoid colon}   \n",
       "239  anatomical structure              VHFLargeIntestine__{sigmoid colon}   \n",
       "240  anatomical structure                    VHMLeftUreter__{left ureter}   \n",
       "241  anatomical structure  VHMUrinaryBladder__{fundus of urinary bladder}   \n",
       "242  anatomical structure                    VHMLeftUreter__{left ureter}   \n",
       "\n",
       "       volume_m^3   volume_mm^3  \n",
       "0    9.850908e-02  9.850908e+07  \n",
       "1    1.716722e-04  1.716722e+05  \n",
       "2    2.330238e-05  2.330238e+04  \n",
       "3    3.914832e-05  3.914832e+04  \n",
       "4    8.011831e-05  8.011831e+04  \n",
       "..            ...           ...  \n",
       "238  3.034371e+13  3.034371e+04  \n",
       "239  3.034371e+13  3.034371e+04  \n",
       "240  1.685800e+12  1.685800e+03  \n",
       "241  2.415220e+12  2.415220e+03  \n",
       "242  1.685800e+12  1.685800e+03  \n",
       "\n",
       "[738 rows x 4 columns]"
      ]
     },
     "execution_count": 78,
     "metadata": {},
     "output_type": "execute_result"
    }
   ],
   "source": [
    "all_volumes = pd.concat([corridor_volumes, as_volumes])\n",
    "all_volumes"
   ]
  },
  {
   "cell_type": "markdown",
   "metadata": {},
   "source": [
    "# Export as CSV"
   ]
  },
  {
   "cell_type": "code",
   "execution_count": 79,
   "metadata": {},
   "outputs": [],
   "source": [
    "volumes_all.to_csv(\"output/all_volumes.csv\", index=False)"
   ]
  },
  {
   "cell_type": "markdown",
   "metadata": {},
   "source": [
    "# Visualize"
   ]
  },
  {
   "cell_type": "code",
   "execution_count": 80,
   "metadata": {},
   "outputs": [
    {
     "data": {
      "image/png": "[encoded data removed]",
      "text/plain": [
       "<Figure size 800x600 with 1 Axes>"
      ]
     },
     "metadata": {},
     "output_type": "display_data"
    }
   ],
   "source": [
    "# As strip plot\n",
    "plt.figure(figsize=(8, 6))\n",
    "sns.stripplot(x='type', y='volume_mm^3', hue='type', data=volumes_all)\n",
    "plt.title('Dot Plot of Volumes of Corridors and Anatomical Structures')\n",
    "plt.yscale(\"log\")\n",
    "plt.xlabel('Type')\n",
    "plt.ylabel('Volume in mm^3')\n",
    "plt.show()"
   ]
  }
 ],
 "metadata": {
  "kernelspec": {
   "display_name": ".venv",
   "language": "python",
   "name": "python3"
  },
  "language_info": {
   "codemirror_mode": {
    "name": "ipython",
    "version": 3
   },
   "file_extension": ".py",
   "mimetype": "text/x-python",
   "name": "python",
   "nbconvert_exporter": "python",
   "pygments_lexer": "ipython3",
   "version": "3.12.4"
  }
 },
 "nbformat": 4,
 "nbformat_minor": 2
}
